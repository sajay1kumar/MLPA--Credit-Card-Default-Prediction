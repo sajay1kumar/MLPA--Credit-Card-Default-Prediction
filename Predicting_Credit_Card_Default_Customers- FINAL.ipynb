{
  "nbformat": 4,
  "nbformat_minor": 0,
  "metadata": {
    "colab": {
      "name": "Predicting Credit Card Default Customers.ipynb",
      "provenance": [],
      "collapsed_sections": []
    },
    "kernelspec": {
      "name": "python3",
      "display_name": "Python 3"
    },
    "language_info": {
      "name": "python"
    }
  },
  "cells": [
    {
      "cell_type": "markdown",
      "source": [
        "# **Machine Learning Model to Predict Credit Card Default Customers**\n",
        "The following script details a step-by-step approach for applying a Machine Learning solution to predict if a credit card customer will default the following month based on their 6 months payment history.\n",
        "\n",
        "The dataset considered is from UCI Machine Learning Repository- \"\n",
        "default of credit card clients Data Set\" (Also available in Kaggle)\n",
        "\n",
        "Source: https://archive.ics.uci.edu/ml/datasets/default+of+credit+card+clients#\n",
        "\n",
        "### **Stages**\n",
        "1. Import Libraries Required\n",
        "2. Get Data\n",
        "3. Data Examination\n",
        "4. Exploratory Data Analysis (EDA)\n",
        "5. Pre-processing Steps\n",
        "6. Baseline Model Implementation\n",
        "7. Evaluation\n",
        "8. Final Model Implementation"
      ],
      "metadata": {
        "id": "ObE5V1NDQBoJ"
      }
    },
    {
      "cell_type": "markdown",
      "source": [
        "## **1. Import Libraries required**"
      ],
      "metadata": {
        "id": "zxtLQhnRRo3u"
      }
    },
    {
      "cell_type": "code",
      "execution_count": 2,
      "metadata": {
        "id": "TFQ96jIVP18-"
      },
      "outputs": [],
      "source": [
        "import numpy as np\n",
        "import pandas as pd\n",
        "%matplotlib inline\n",
        "import matplotlib.pyplot as plt\n",
        "import seaborn as sns\n",
        "from datetime import datetime \n",
        "from sklearn.preprocessing import StandardScaler\n",
        "from sklearn.model_selection import train_test_split\n",
        "from sklearn.model_selection import KFold\n",
        "from sklearn.metrics import roc_auc_score\n",
        "from sklearn.linear_model import LogisticRegression, RidgeClassifier\n",
        "from sklearn.svm import SVC\n",
        "from sklearn.ensemble import RandomForestClassifier\n",
        "from sklearn.metrics import accuracy_score,classification_report,confusion_matrix,mean_squared_error, precision_score, recall_score, f1_score\n",
        "from sklearn.neural_network import MLPClassifier\n",
        "from sklearn.neighbors import KNeighborsClassifier\n",
        "from sklearn.model_selection import KFold\n",
        "from sklearn.model_selection import cross_val_score\n",
        "from sklearn.model_selection import StratifiedKFold\n",
        "from sklearn.model_selection import GridSearchCV\n",
        "from sklearn.preprocessing import OneHotEncoder\n",
        "\n"
      ]
    },
    {
      "cell_type": "markdown",
      "source": [
        "## **2. Get Data**"
      ],
      "metadata": {
        "id": "5QQurcWSR2Sh"
      }
    },
    {
      "cell_type": "code",
      "source": [
        "# Reading the data\n",
        "df = pd.read_csv('credit_card_default.csv')"
      ],
      "metadata": {
        "id": "w78acP0OR6si"
      },
      "execution_count": 4,
      "outputs": []
    },
    {
      "cell_type": "code",
      "source": [
        "df.shape"
      ],
      "metadata": {
        "colab": {
          "base_uri": "https://localhost:8080/"
        },
        "id": "drwoGE2VUkVh",
        "outputId": "4fc9f67d-6b0d-4750-fcea-d91b15b32bfe"
      },
      "execution_count": 4,
      "outputs": [
        {
          "output_type": "execute_result",
          "data": {
            "text/plain": [
              "(30000, 25)"
            ]
          },
          "metadata": {},
          "execution_count": 4
        }
      ]
    },
    {
      "cell_type": "code",
      "source": [
        "df.columns"
      ],
      "metadata": {
        "colab": {
          "base_uri": "https://localhost:8080/"
        },
        "id": "4X8qt8D1UpwI",
        "outputId": "f3d6193f-8471-424c-f5c7-1c9332e40723"
      },
      "execution_count": 5,
      "outputs": [
        {
          "output_type": "execute_result",
          "data": {
            "text/plain": [
              "Index(['ID', 'LIMIT_BAL', 'SEX', 'EDUCATION', 'MARRIAGE', 'AGE', 'PAY_0',\n",
              "       'PAY_2', 'PAY_3', 'PAY_4', 'PAY_5', 'PAY_6', 'BILL_AMT1', 'BILL_AMT2',\n",
              "       'BILL_AMT3', 'BILL_AMT4', 'BILL_AMT5', 'BILL_AMT6', 'PAY_AMT1',\n",
              "       'PAY_AMT2', 'PAY_AMT3', 'PAY_AMT4', 'PAY_AMT5', 'PAY_AMT6',\n",
              "       'default payment_next_month'],\n",
              "      dtype='object')"
            ]
          },
          "metadata": {},
          "execution_count": 5
        }
      ]
    },
    {
      "cell_type": "markdown",
      "source": [
        "## **3. Data Examination**"
      ],
      "metadata": {
        "id": "j3-Q9DBFUFU6"
      }
    },
    {
      "cell_type": "code",
      "source": [
        "df.head(10)"
      ],
      "metadata": {
        "colab": {
          "base_uri": "https://localhost:8080/",
          "height": 474
        },
        "id": "UyOo91ZGUCcl",
        "outputId": "db4f6aac-0e78-4056-e736-2b7385d0836d"
      },
      "execution_count": 6,
      "outputs": [
        {
          "output_type": "execute_result",
          "data": {
            "text/plain": [
              "   ID  LIMIT_BAL  SEX  EDUCATION  MARRIAGE  AGE  PAY_0  PAY_2  PAY_3  PAY_4  \\\n",
              "0   1      20000    2          2         1   24      2      2     -1     -1   \n",
              "1   2     120000    2          2         2   26     -1      2      0      0   \n",
              "2   3      90000    2          2         2   34      0      0      0      0   \n",
              "3   4      50000    2          2         1   37      0      0      0      0   \n",
              "4   5      50000    1          2         1   57     -1      0     -1      0   \n",
              "5   6      50000    1          1         2   37      0      0      0      0   \n",
              "6   7     500000    1          1         2   29      0      0      0      0   \n",
              "7   8     100000    2          2         2   23      0     -1     -1      0   \n",
              "8   9     140000    2          3         1   28      0      0      2      0   \n",
              "9  10      20000    1          3         2   35     -2     -2     -2     -2   \n",
              "\n",
              "   ...  BILL_AMT4  BILL_AMT5  BILL_AMT6  PAY_AMT1  PAY_AMT2  PAY_AMT3  \\\n",
              "0  ...          0          0          0         0       689         0   \n",
              "1  ...       3272       3455       3261         0      1000      1000   \n",
              "2  ...      14331      14948      15549      1518      1500      1000   \n",
              "3  ...      28314      28959      29547      2000      2019      1200   \n",
              "4  ...      20940      19146      19131      2000     36681     10000   \n",
              "5  ...      19394      19619      20024      2500      1815       657   \n",
              "6  ...     542653     483003     473944     55000     40000     38000   \n",
              "7  ...        221       -159        567       380       601         0   \n",
              "8  ...      12211      11793       3719      3329         0       432   \n",
              "9  ...          0      13007      13912         0         0         0   \n",
              "\n",
              "   PAY_AMT4  PAY_AMT5  PAY_AMT6  default payment_next_month  \n",
              "0         0         0         0                           1  \n",
              "1      1000         0      2000                           1  \n",
              "2      1000      1000      5000                           0  \n",
              "3      1100      1069      1000                           0  \n",
              "4      9000       689       679                           0  \n",
              "5      1000      1000       800                           0  \n",
              "6     20239     13750     13770                           0  \n",
              "7       581      1687      1542                           0  \n",
              "8      1000      1000      1000                           0  \n",
              "9     13007      1122         0                           0  \n",
              "\n",
              "[10 rows x 25 columns]"
            ],
            "text/html": [
              "\n",
              "  <div id=\"df-4f3000b9-1972-43fa-ac58-30121dd43327\">\n",
              "    <div class=\"colab-df-container\">\n",
              "      <div>\n",
              "<style scoped>\n",
              "    .dataframe tbody tr th:only-of-type {\n",
              "        vertical-align: middle;\n",
              "    }\n",
              "\n",
              "    .dataframe tbody tr th {\n",
              "        vertical-align: top;\n",
              "    }\n",
              "\n",
              "    .dataframe thead th {\n",
              "        text-align: right;\n",
              "    }\n",
              "</style>\n",
              "<table border=\"1\" class=\"dataframe\">\n",
              "  <thead>\n",
              "    <tr style=\"text-align: right;\">\n",
              "      <th></th>\n",
              "      <th>ID</th>\n",
              "      <th>LIMIT_BAL</th>\n",
              "      <th>SEX</th>\n",
              "      <th>EDUCATION</th>\n",
              "      <th>MARRIAGE</th>\n",
              "      <th>AGE</th>\n",
              "      <th>PAY_0</th>\n",
              "      <th>PAY_2</th>\n",
              "      <th>PAY_3</th>\n",
              "      <th>PAY_4</th>\n",
              "      <th>...</th>\n",
              "      <th>BILL_AMT4</th>\n",
              "      <th>BILL_AMT5</th>\n",
              "      <th>BILL_AMT6</th>\n",
              "      <th>PAY_AMT1</th>\n",
              "      <th>PAY_AMT2</th>\n",
              "      <th>PAY_AMT3</th>\n",
              "      <th>PAY_AMT4</th>\n",
              "      <th>PAY_AMT5</th>\n",
              "      <th>PAY_AMT6</th>\n",
              "      <th>default payment_next_month</th>\n",
              "    </tr>\n",
              "  </thead>\n",
              "  <tbody>\n",
              "    <tr>\n",
              "      <th>0</th>\n",
              "      <td>1</td>\n",
              "      <td>20000</td>\n",
              "      <td>2</td>\n",
              "      <td>2</td>\n",
              "      <td>1</td>\n",
              "      <td>24</td>\n",
              "      <td>2</td>\n",
              "      <td>2</td>\n",
              "      <td>-1</td>\n",
              "      <td>-1</td>\n",
              "      <td>...</td>\n",
              "      <td>0</td>\n",
              "      <td>0</td>\n",
              "      <td>0</td>\n",
              "      <td>0</td>\n",
              "      <td>689</td>\n",
              "      <td>0</td>\n",
              "      <td>0</td>\n",
              "      <td>0</td>\n",
              "      <td>0</td>\n",
              "      <td>1</td>\n",
              "    </tr>\n",
              "    <tr>\n",
              "      <th>1</th>\n",
              "      <td>2</td>\n",
              "      <td>120000</td>\n",
              "      <td>2</td>\n",
              "      <td>2</td>\n",
              "      <td>2</td>\n",
              "      <td>26</td>\n",
              "      <td>-1</td>\n",
              "      <td>2</td>\n",
              "      <td>0</td>\n",
              "      <td>0</td>\n",
              "      <td>...</td>\n",
              "      <td>3272</td>\n",
              "      <td>3455</td>\n",
              "      <td>3261</td>\n",
              "      <td>0</td>\n",
              "      <td>1000</td>\n",
              "      <td>1000</td>\n",
              "      <td>1000</td>\n",
              "      <td>0</td>\n",
              "      <td>2000</td>\n",
              "      <td>1</td>\n",
              "    </tr>\n",
              "    <tr>\n",
              "      <th>2</th>\n",
              "      <td>3</td>\n",
              "      <td>90000</td>\n",
              "      <td>2</td>\n",
              "      <td>2</td>\n",
              "      <td>2</td>\n",
              "      <td>34</td>\n",
              "      <td>0</td>\n",
              "      <td>0</td>\n",
              "      <td>0</td>\n",
              "      <td>0</td>\n",
              "      <td>...</td>\n",
              "      <td>14331</td>\n",
              "      <td>14948</td>\n",
              "      <td>15549</td>\n",
              "      <td>1518</td>\n",
              "      <td>1500</td>\n",
              "      <td>1000</td>\n",
              "      <td>1000</td>\n",
              "      <td>1000</td>\n",
              "      <td>5000</td>\n",
              "      <td>0</td>\n",
              "    </tr>\n",
              "    <tr>\n",
              "      <th>3</th>\n",
              "      <td>4</td>\n",
              "      <td>50000</td>\n",
              "      <td>2</td>\n",
              "      <td>2</td>\n",
              "      <td>1</td>\n",
              "      <td>37</td>\n",
              "      <td>0</td>\n",
              "      <td>0</td>\n",
              "      <td>0</td>\n",
              "      <td>0</td>\n",
              "      <td>...</td>\n",
              "      <td>28314</td>\n",
              "      <td>28959</td>\n",
              "      <td>29547</td>\n",
              "      <td>2000</td>\n",
              "      <td>2019</td>\n",
              "      <td>1200</td>\n",
              "      <td>1100</td>\n",
              "      <td>1069</td>\n",
              "      <td>1000</td>\n",
              "      <td>0</td>\n",
              "    </tr>\n",
              "    <tr>\n",
              "      <th>4</th>\n",
              "      <td>5</td>\n",
              "      <td>50000</td>\n",
              "      <td>1</td>\n",
              "      <td>2</td>\n",
              "      <td>1</td>\n",
              "      <td>57</td>\n",
              "      <td>-1</td>\n",
              "      <td>0</td>\n",
              "      <td>-1</td>\n",
              "      <td>0</td>\n",
              "      <td>...</td>\n",
              "      <td>20940</td>\n",
              "      <td>19146</td>\n",
              "      <td>19131</td>\n",
              "      <td>2000</td>\n",
              "      <td>36681</td>\n",
              "      <td>10000</td>\n",
              "      <td>9000</td>\n",
              "      <td>689</td>\n",
              "      <td>679</td>\n",
              "      <td>0</td>\n",
              "    </tr>\n",
              "    <tr>\n",
              "      <th>5</th>\n",
              "      <td>6</td>\n",
              "      <td>50000</td>\n",
              "      <td>1</td>\n",
              "      <td>1</td>\n",
              "      <td>2</td>\n",
              "      <td>37</td>\n",
              "      <td>0</td>\n",
              "      <td>0</td>\n",
              "      <td>0</td>\n",
              "      <td>0</td>\n",
              "      <td>...</td>\n",
              "      <td>19394</td>\n",
              "      <td>19619</td>\n",
              "      <td>20024</td>\n",
              "      <td>2500</td>\n",
              "      <td>1815</td>\n",
              "      <td>657</td>\n",
              "      <td>1000</td>\n",
              "      <td>1000</td>\n",
              "      <td>800</td>\n",
              "      <td>0</td>\n",
              "    </tr>\n",
              "    <tr>\n",
              "      <th>6</th>\n",
              "      <td>7</td>\n",
              "      <td>500000</td>\n",
              "      <td>1</td>\n",
              "      <td>1</td>\n",
              "      <td>2</td>\n",
              "      <td>29</td>\n",
              "      <td>0</td>\n",
              "      <td>0</td>\n",
              "      <td>0</td>\n",
              "      <td>0</td>\n",
              "      <td>...</td>\n",
              "      <td>542653</td>\n",
              "      <td>483003</td>\n",
              "      <td>473944</td>\n",
              "      <td>55000</td>\n",
              "      <td>40000</td>\n",
              "      <td>38000</td>\n",
              "      <td>20239</td>\n",
              "      <td>13750</td>\n",
              "      <td>13770</td>\n",
              "      <td>0</td>\n",
              "    </tr>\n",
              "    <tr>\n",
              "      <th>7</th>\n",
              "      <td>8</td>\n",
              "      <td>100000</td>\n",
              "      <td>2</td>\n",
              "      <td>2</td>\n",
              "      <td>2</td>\n",
              "      <td>23</td>\n",
              "      <td>0</td>\n",
              "      <td>-1</td>\n",
              "      <td>-1</td>\n",
              "      <td>0</td>\n",
              "      <td>...</td>\n",
              "      <td>221</td>\n",
              "      <td>-159</td>\n",
              "      <td>567</td>\n",
              "      <td>380</td>\n",
              "      <td>601</td>\n",
              "      <td>0</td>\n",
              "      <td>581</td>\n",
              "      <td>1687</td>\n",
              "      <td>1542</td>\n",
              "      <td>0</td>\n",
              "    </tr>\n",
              "    <tr>\n",
              "      <th>8</th>\n",
              "      <td>9</td>\n",
              "      <td>140000</td>\n",
              "      <td>2</td>\n",
              "      <td>3</td>\n",
              "      <td>1</td>\n",
              "      <td>28</td>\n",
              "      <td>0</td>\n",
              "      <td>0</td>\n",
              "      <td>2</td>\n",
              "      <td>0</td>\n",
              "      <td>...</td>\n",
              "      <td>12211</td>\n",
              "      <td>11793</td>\n",
              "      <td>3719</td>\n",
              "      <td>3329</td>\n",
              "      <td>0</td>\n",
              "      <td>432</td>\n",
              "      <td>1000</td>\n",
              "      <td>1000</td>\n",
              "      <td>1000</td>\n",
              "      <td>0</td>\n",
              "    </tr>\n",
              "    <tr>\n",
              "      <th>9</th>\n",
              "      <td>10</td>\n",
              "      <td>20000</td>\n",
              "      <td>1</td>\n",
              "      <td>3</td>\n",
              "      <td>2</td>\n",
              "      <td>35</td>\n",
              "      <td>-2</td>\n",
              "      <td>-2</td>\n",
              "      <td>-2</td>\n",
              "      <td>-2</td>\n",
              "      <td>...</td>\n",
              "      <td>0</td>\n",
              "      <td>13007</td>\n",
              "      <td>13912</td>\n",
              "      <td>0</td>\n",
              "      <td>0</td>\n",
              "      <td>0</td>\n",
              "      <td>13007</td>\n",
              "      <td>1122</td>\n",
              "      <td>0</td>\n",
              "      <td>0</td>\n",
              "    </tr>\n",
              "  </tbody>\n",
              "</table>\n",
              "<p>10 rows × 25 columns</p>\n",
              "</div>\n",
              "      <button class=\"colab-df-convert\" onclick=\"convertToInteractive('df-4f3000b9-1972-43fa-ac58-30121dd43327')\"\n",
              "              title=\"Convert this dataframe to an interactive table.\"\n",
              "              style=\"display:none;\">\n",
              "        \n",
              "  <svg xmlns=\"http://www.w3.org/2000/svg\" height=\"24px\"viewBox=\"0 0 24 24\"\n",
              "       width=\"24px\">\n",
              "    <path d=\"M0 0h24v24H0V0z\" fill=\"none\"/>\n",
              "    <path d=\"M18.56 5.44l.94 2.06.94-2.06 2.06-.94-2.06-.94-.94-2.06-.94 2.06-2.06.94zm-11 1L8.5 8.5l.94-2.06 2.06-.94-2.06-.94L8.5 2.5l-.94 2.06-2.06.94zm10 10l.94 2.06.94-2.06 2.06-.94-2.06-.94-.94-2.06-.94 2.06-2.06.94z\"/><path d=\"M17.41 7.96l-1.37-1.37c-.4-.4-.92-.59-1.43-.59-.52 0-1.04.2-1.43.59L10.3 9.45l-7.72 7.72c-.78.78-.78 2.05 0 2.83L4 21.41c.39.39.9.59 1.41.59.51 0 1.02-.2 1.41-.59l7.78-7.78 2.81-2.81c.8-.78.8-2.07 0-2.86zM5.41 20L4 18.59l7.72-7.72 1.47 1.35L5.41 20z\"/>\n",
              "  </svg>\n",
              "      </button>\n",
              "      \n",
              "  <style>\n",
              "    .colab-df-container {\n",
              "      display:flex;\n",
              "      flex-wrap:wrap;\n",
              "      gap: 12px;\n",
              "    }\n",
              "\n",
              "    .colab-df-convert {\n",
              "      background-color: #E8F0FE;\n",
              "      border: none;\n",
              "      border-radius: 50%;\n",
              "      cursor: pointer;\n",
              "      display: none;\n",
              "      fill: #1967D2;\n",
              "      height: 32px;\n",
              "      padding: 0 0 0 0;\n",
              "      width: 32px;\n",
              "    }\n",
              "\n",
              "    .colab-df-convert:hover {\n",
              "      background-color: #E2EBFA;\n",
              "      box-shadow: 0px 1px 2px rgba(60, 64, 67, 0.3), 0px 1px 3px 1px rgba(60, 64, 67, 0.15);\n",
              "      fill: #174EA6;\n",
              "    }\n",
              "\n",
              "    [theme=dark] .colab-df-convert {\n",
              "      background-color: #3B4455;\n",
              "      fill: #D2E3FC;\n",
              "    }\n",
              "\n",
              "    [theme=dark] .colab-df-convert:hover {\n",
              "      background-color: #434B5C;\n",
              "      box-shadow: 0px 1px 3px 1px rgba(0, 0, 0, 0.15);\n",
              "      filter: drop-shadow(0px 1px 2px rgba(0, 0, 0, 0.3));\n",
              "      fill: #FFFFFF;\n",
              "    }\n",
              "  </style>\n",
              "\n",
              "      <script>\n",
              "        const buttonEl =\n",
              "          document.querySelector('#df-4f3000b9-1972-43fa-ac58-30121dd43327 button.colab-df-convert');\n",
              "        buttonEl.style.display =\n",
              "          google.colab.kernel.accessAllowed ? 'block' : 'none';\n",
              "\n",
              "        async function convertToInteractive(key) {\n",
              "          const element = document.querySelector('#df-4f3000b9-1972-43fa-ac58-30121dd43327');\n",
              "          const dataTable =\n",
              "            await google.colab.kernel.invokeFunction('convertToInteractive',\n",
              "                                                     [key], {});\n",
              "          if (!dataTable) return;\n",
              "\n",
              "          const docLinkHtml = 'Like what you see? Visit the ' +\n",
              "            '<a target=\"_blank\" href=https://colab.research.google.com/notebooks/data_table.ipynb>data table notebook</a>'\n",
              "            + ' to learn more about interactive tables.';\n",
              "          element.innerHTML = '';\n",
              "          dataTable['output_type'] = 'display_data';\n",
              "          await google.colab.output.renderOutput(dataTable, element);\n",
              "          const docLink = document.createElement('div');\n",
              "          docLink.innerHTML = docLinkHtml;\n",
              "          element.appendChild(docLink);\n",
              "        }\n",
              "      </script>\n",
              "    </div>\n",
              "  </div>\n",
              "  "
            ]
          },
          "metadata": {},
          "execution_count": 6
        }
      ]
    },
    {
      "cell_type": "code",
      "source": [
        "df.info()"
      ],
      "metadata": {
        "colab": {
          "base_uri": "https://localhost:8080/"
        },
        "id": "pqKw3156UX3n",
        "outputId": "7e51b454-d308-4f3e-abd8-5d48df202527"
      },
      "execution_count": 7,
      "outputs": [
        {
          "output_type": "stream",
          "name": "stdout",
          "text": [
            "<class 'pandas.core.frame.DataFrame'>\n",
            "RangeIndex: 30000 entries, 0 to 29999\n",
            "Data columns (total 25 columns):\n",
            " #   Column                      Non-Null Count  Dtype\n",
            "---  ------                      --------------  -----\n",
            " 0   ID                          30000 non-null  int64\n",
            " 1   LIMIT_BAL                   30000 non-null  int64\n",
            " 2   SEX                         30000 non-null  int64\n",
            " 3   EDUCATION                   30000 non-null  int64\n",
            " 4   MARRIAGE                    30000 non-null  int64\n",
            " 5   AGE                         30000 non-null  int64\n",
            " 6   PAY_0                       30000 non-null  int64\n",
            " 7   PAY_2                       30000 non-null  int64\n",
            " 8   PAY_3                       30000 non-null  int64\n",
            " 9   PAY_4                       30000 non-null  int64\n",
            " 10  PAY_5                       30000 non-null  int64\n",
            " 11  PAY_6                       30000 non-null  int64\n",
            " 12  BILL_AMT1                   30000 non-null  int64\n",
            " 13  BILL_AMT2                   30000 non-null  int64\n",
            " 14  BILL_AMT3                   30000 non-null  int64\n",
            " 15  BILL_AMT4                   30000 non-null  int64\n",
            " 16  BILL_AMT5                   30000 non-null  int64\n",
            " 17  BILL_AMT6                   30000 non-null  int64\n",
            " 18  PAY_AMT1                    30000 non-null  int64\n",
            " 19  PAY_AMT2                    30000 non-null  int64\n",
            " 20  PAY_AMT3                    30000 non-null  int64\n",
            " 21  PAY_AMT4                    30000 non-null  int64\n",
            " 22  PAY_AMT5                    30000 non-null  int64\n",
            " 23  PAY_AMT6                    30000 non-null  int64\n",
            " 24  default payment_next_month  30000 non-null  int64\n",
            "dtypes: int64(25)\n",
            "memory usage: 5.7 MB\n"
          ]
        }
      ]
    },
    {
      "cell_type": "code",
      "source": [
        "# Ensuring there are no missing values\n",
        "\n",
        "df.isnull().sum().sort_values(ascending=False) \n",
        "\n",
        "# No missing values and hence no imputations necessary"
      ],
      "metadata": {
        "colab": {
          "base_uri": "https://localhost:8080/"
        },
        "id": "fmrUnK5_UeBH",
        "outputId": "782a22bc-20b7-45ba-fd49-837120b6ef13"
      },
      "execution_count": 8,
      "outputs": [
        {
          "output_type": "execute_result",
          "data": {
            "text/plain": [
              "ID                            0\n",
              "BILL_AMT2                     0\n",
              "PAY_AMT6                      0\n",
              "PAY_AMT5                      0\n",
              "PAY_AMT4                      0\n",
              "PAY_AMT3                      0\n",
              "PAY_AMT2                      0\n",
              "PAY_AMT1                      0\n",
              "BILL_AMT6                     0\n",
              "BILL_AMT5                     0\n",
              "BILL_AMT4                     0\n",
              "BILL_AMT3                     0\n",
              "BILL_AMT1                     0\n",
              "LIMIT_BAL                     0\n",
              "PAY_6                         0\n",
              "PAY_5                         0\n",
              "PAY_4                         0\n",
              "PAY_3                         0\n",
              "PAY_2                         0\n",
              "PAY_0                         0\n",
              "AGE                           0\n",
              "MARRIAGE                      0\n",
              "EDUCATION                     0\n",
              "SEX                           0\n",
              "default payment_next_month    0\n",
              "dtype: int64"
            ]
          },
          "metadata": {},
          "execution_count": 8
        }
      ]
    },
    {
      "cell_type": "markdown",
      "source": [
        "### Observations\n",
        "There are no missing values which is a good sign.\n",
        "However, there are some minor preprocessing steps required. \n",
        "\n",
        "\n",
        "*   I will change the column name 'default payment_next_month' to 'default_payment' to make is easy to read. This will be done in pre-processing stage.\n",
        "*   Will change the column name 'PAY_0' to 'PAY_1' so its consistent. This will be done in pre-processing stage.\n",
        "* The columns Marriage, Education and Sex are categorical variables but there are some anomalous data. This will be demonstrated and addressed in pre-processing stage.\n",
        "\n",
        "\n",
        "\n",
        "\n"
      ],
      "metadata": {
        "id": "MQhwSZ-LWFGO"
      }
    },
    {
      "cell_type": "markdown",
      "source": [
        "## **4. Exploratory Data Analysis (EDA)**"
      ],
      "metadata": {
        "id": "epEUXrz4Yide"
      }
    },
    {
      "cell_type": "code",
      "source": [
        "# Descriptive Statistics\n",
        "\n",
        "df.describe().T"
      ],
      "metadata": {
        "colab": {
          "base_uri": "https://localhost:8080/",
          "height": 833
        },
        "id": "8agk2br4YG5l",
        "outputId": "a00cc014-b80d-4813-ba31-011ad3d5695a"
      },
      "execution_count": 9,
      "outputs": [
        {
          "output_type": "execute_result",
          "data": {
            "text/plain": [
              "                              count           mean            std       min  \\\n",
              "ID                          30000.0   15000.500000    8660.398374       1.0   \n",
              "LIMIT_BAL                   30000.0  167484.322667  129747.661567   10000.0   \n",
              "SEX                         30000.0       1.603733       0.489129       1.0   \n",
              "EDUCATION                   30000.0       1.853133       0.790349       0.0   \n",
              "MARRIAGE                    30000.0       1.551867       0.521970       0.0   \n",
              "AGE                         30000.0      35.485500       9.217904      21.0   \n",
              "PAY_0                       30000.0      -0.016700       1.123802      -2.0   \n",
              "PAY_2                       30000.0      -0.133767       1.197186      -2.0   \n",
              "PAY_3                       30000.0      -0.166200       1.196868      -2.0   \n",
              "PAY_4                       30000.0      -0.220667       1.169139      -2.0   \n",
              "PAY_5                       30000.0      -0.266200       1.133187      -2.0   \n",
              "PAY_6                       30000.0      -0.291100       1.149988      -2.0   \n",
              "BILL_AMT1                   30000.0   51223.330900   73635.860576 -165580.0   \n",
              "BILL_AMT2                   30000.0   49179.075167   71173.768783  -69777.0   \n",
              "BILL_AMT3                   30000.0   47013.154800   69349.387427 -157264.0   \n",
              "BILL_AMT4                   30000.0   43262.948967   64332.856134 -170000.0   \n",
              "BILL_AMT5                   30000.0   40311.400967   60797.155770  -81334.0   \n",
              "BILL_AMT6                   30000.0   38871.760400   59554.107537 -339603.0   \n",
              "PAY_AMT1                    30000.0    5663.580500   16563.280354       0.0   \n",
              "PAY_AMT2                    30000.0    5921.163500   23040.870402       0.0   \n",
              "PAY_AMT3                    30000.0    5225.681500   17606.961470       0.0   \n",
              "PAY_AMT4                    30000.0    4826.076867   15666.159744       0.0   \n",
              "PAY_AMT5                    30000.0    4799.387633   15278.305679       0.0   \n",
              "PAY_AMT6                    30000.0    5215.502567   17777.465775       0.0   \n",
              "default payment_next_month  30000.0       0.221200       0.415062       0.0   \n",
              "\n",
              "                                 25%       50%        75%        max  \n",
              "ID                           7500.75   15000.5   22500.25    30000.0  \n",
              "LIMIT_BAL                   50000.00  140000.0  240000.00  1000000.0  \n",
              "SEX                             1.00       2.0       2.00        2.0  \n",
              "EDUCATION                       1.00       2.0       2.00        6.0  \n",
              "MARRIAGE                        1.00       2.0       2.00        3.0  \n",
              "AGE                            28.00      34.0      41.00       79.0  \n",
              "PAY_0                          -1.00       0.0       0.00        8.0  \n",
              "PAY_2                          -1.00       0.0       0.00        8.0  \n",
              "PAY_3                          -1.00       0.0       0.00        8.0  \n",
              "PAY_4                          -1.00       0.0       0.00        8.0  \n",
              "PAY_5                          -1.00       0.0       0.00        8.0  \n",
              "PAY_6                          -1.00       0.0       0.00        8.0  \n",
              "BILL_AMT1                    3558.75   22381.5   67091.00   964511.0  \n",
              "BILL_AMT2                    2984.75   21200.0   64006.25   983931.0  \n",
              "BILL_AMT3                    2666.25   20088.5   60164.75  1664089.0  \n",
              "BILL_AMT4                    2326.75   19052.0   54506.00   891586.0  \n",
              "BILL_AMT5                    1763.00   18104.5   50190.50   927171.0  \n",
              "BILL_AMT6                    1256.00   17071.0   49198.25   961664.0  \n",
              "PAY_AMT1                     1000.00    2100.0    5006.00   873552.0  \n",
              "PAY_AMT2                      833.00    2009.0    5000.00  1684259.0  \n",
              "PAY_AMT3                      390.00    1800.0    4505.00   896040.0  \n",
              "PAY_AMT4                      296.00    1500.0    4013.25   621000.0  \n",
              "PAY_AMT5                      252.50    1500.0    4031.50   426529.0  \n",
              "PAY_AMT6                      117.75    1500.0    4000.00   528666.0  \n",
              "default payment_next_month      0.00       0.0       0.00        1.0  "
            ],
            "text/html": [
              "\n",
              "  <div id=\"df-d7106fa9-1491-4d36-af55-ec804d279191\">\n",
              "    <div class=\"colab-df-container\">\n",
              "      <div>\n",
              "<style scoped>\n",
              "    .dataframe tbody tr th:only-of-type {\n",
              "        vertical-align: middle;\n",
              "    }\n",
              "\n",
              "    .dataframe tbody tr th {\n",
              "        vertical-align: top;\n",
              "    }\n",
              "\n",
              "    .dataframe thead th {\n",
              "        text-align: right;\n",
              "    }\n",
              "</style>\n",
              "<table border=\"1\" class=\"dataframe\">\n",
              "  <thead>\n",
              "    <tr style=\"text-align: right;\">\n",
              "      <th></th>\n",
              "      <th>count</th>\n",
              "      <th>mean</th>\n",
              "      <th>std</th>\n",
              "      <th>min</th>\n",
              "      <th>25%</th>\n",
              "      <th>50%</th>\n",
              "      <th>75%</th>\n",
              "      <th>max</th>\n",
              "    </tr>\n",
              "  </thead>\n",
              "  <tbody>\n",
              "    <tr>\n",
              "      <th>ID</th>\n",
              "      <td>30000.0</td>\n",
              "      <td>15000.500000</td>\n",
              "      <td>8660.398374</td>\n",
              "      <td>1.0</td>\n",
              "      <td>7500.75</td>\n",
              "      <td>15000.5</td>\n",
              "      <td>22500.25</td>\n",
              "      <td>30000.0</td>\n",
              "    </tr>\n",
              "    <tr>\n",
              "      <th>LIMIT_BAL</th>\n",
              "      <td>30000.0</td>\n",
              "      <td>167484.322667</td>\n",
              "      <td>129747.661567</td>\n",
              "      <td>10000.0</td>\n",
              "      <td>50000.00</td>\n",
              "      <td>140000.0</td>\n",
              "      <td>240000.00</td>\n",
              "      <td>1000000.0</td>\n",
              "    </tr>\n",
              "    <tr>\n",
              "      <th>SEX</th>\n",
              "      <td>30000.0</td>\n",
              "      <td>1.603733</td>\n",
              "      <td>0.489129</td>\n",
              "      <td>1.0</td>\n",
              "      <td>1.00</td>\n",
              "      <td>2.0</td>\n",
              "      <td>2.00</td>\n",
              "      <td>2.0</td>\n",
              "    </tr>\n",
              "    <tr>\n",
              "      <th>EDUCATION</th>\n",
              "      <td>30000.0</td>\n",
              "      <td>1.853133</td>\n",
              "      <td>0.790349</td>\n",
              "      <td>0.0</td>\n",
              "      <td>1.00</td>\n",
              "      <td>2.0</td>\n",
              "      <td>2.00</td>\n",
              "      <td>6.0</td>\n",
              "    </tr>\n",
              "    <tr>\n",
              "      <th>MARRIAGE</th>\n",
              "      <td>30000.0</td>\n",
              "      <td>1.551867</td>\n",
              "      <td>0.521970</td>\n",
              "      <td>0.0</td>\n",
              "      <td>1.00</td>\n",
              "      <td>2.0</td>\n",
              "      <td>2.00</td>\n",
              "      <td>3.0</td>\n",
              "    </tr>\n",
              "    <tr>\n",
              "      <th>AGE</th>\n",
              "      <td>30000.0</td>\n",
              "      <td>35.485500</td>\n",
              "      <td>9.217904</td>\n",
              "      <td>21.0</td>\n",
              "      <td>28.00</td>\n",
              "      <td>34.0</td>\n",
              "      <td>41.00</td>\n",
              "      <td>79.0</td>\n",
              "    </tr>\n",
              "    <tr>\n",
              "      <th>PAY_0</th>\n",
              "      <td>30000.0</td>\n",
              "      <td>-0.016700</td>\n",
              "      <td>1.123802</td>\n",
              "      <td>-2.0</td>\n",
              "      <td>-1.00</td>\n",
              "      <td>0.0</td>\n",
              "      <td>0.00</td>\n",
              "      <td>8.0</td>\n",
              "    </tr>\n",
              "    <tr>\n",
              "      <th>PAY_2</th>\n",
              "      <td>30000.0</td>\n",
              "      <td>-0.133767</td>\n",
              "      <td>1.197186</td>\n",
              "      <td>-2.0</td>\n",
              "      <td>-1.00</td>\n",
              "      <td>0.0</td>\n",
              "      <td>0.00</td>\n",
              "      <td>8.0</td>\n",
              "    </tr>\n",
              "    <tr>\n",
              "      <th>PAY_3</th>\n",
              "      <td>30000.0</td>\n",
              "      <td>-0.166200</td>\n",
              "      <td>1.196868</td>\n",
              "      <td>-2.0</td>\n",
              "      <td>-1.00</td>\n",
              "      <td>0.0</td>\n",
              "      <td>0.00</td>\n",
              "      <td>8.0</td>\n",
              "    </tr>\n",
              "    <tr>\n",
              "      <th>PAY_4</th>\n",
              "      <td>30000.0</td>\n",
              "      <td>-0.220667</td>\n",
              "      <td>1.169139</td>\n",
              "      <td>-2.0</td>\n",
              "      <td>-1.00</td>\n",
              "      <td>0.0</td>\n",
              "      <td>0.00</td>\n",
              "      <td>8.0</td>\n",
              "    </tr>\n",
              "    <tr>\n",
              "      <th>PAY_5</th>\n",
              "      <td>30000.0</td>\n",
              "      <td>-0.266200</td>\n",
              "      <td>1.133187</td>\n",
              "      <td>-2.0</td>\n",
              "      <td>-1.00</td>\n",
              "      <td>0.0</td>\n",
              "      <td>0.00</td>\n",
              "      <td>8.0</td>\n",
              "    </tr>\n",
              "    <tr>\n",
              "      <th>PAY_6</th>\n",
              "      <td>30000.0</td>\n",
              "      <td>-0.291100</td>\n",
              "      <td>1.149988</td>\n",
              "      <td>-2.0</td>\n",
              "      <td>-1.00</td>\n",
              "      <td>0.0</td>\n",
              "      <td>0.00</td>\n",
              "      <td>8.0</td>\n",
              "    </tr>\n",
              "    <tr>\n",
              "      <th>BILL_AMT1</th>\n",
              "      <td>30000.0</td>\n",
              "      <td>51223.330900</td>\n",
              "      <td>73635.860576</td>\n",
              "      <td>-165580.0</td>\n",
              "      <td>3558.75</td>\n",
              "      <td>22381.5</td>\n",
              "      <td>67091.00</td>\n",
              "      <td>964511.0</td>\n",
              "    </tr>\n",
              "    <tr>\n",
              "      <th>BILL_AMT2</th>\n",
              "      <td>30000.0</td>\n",
              "      <td>49179.075167</td>\n",
              "      <td>71173.768783</td>\n",
              "      <td>-69777.0</td>\n",
              "      <td>2984.75</td>\n",
              "      <td>21200.0</td>\n",
              "      <td>64006.25</td>\n",
              "      <td>983931.0</td>\n",
              "    </tr>\n",
              "    <tr>\n",
              "      <th>BILL_AMT3</th>\n",
              "      <td>30000.0</td>\n",
              "      <td>47013.154800</td>\n",
              "      <td>69349.387427</td>\n",
              "      <td>-157264.0</td>\n",
              "      <td>2666.25</td>\n",
              "      <td>20088.5</td>\n",
              "      <td>60164.75</td>\n",
              "      <td>1664089.0</td>\n",
              "    </tr>\n",
              "    <tr>\n",
              "      <th>BILL_AMT4</th>\n",
              "      <td>30000.0</td>\n",
              "      <td>43262.948967</td>\n",
              "      <td>64332.856134</td>\n",
              "      <td>-170000.0</td>\n",
              "      <td>2326.75</td>\n",
              "      <td>19052.0</td>\n",
              "      <td>54506.00</td>\n",
              "      <td>891586.0</td>\n",
              "    </tr>\n",
              "    <tr>\n",
              "      <th>BILL_AMT5</th>\n",
              "      <td>30000.0</td>\n",
              "      <td>40311.400967</td>\n",
              "      <td>60797.155770</td>\n",
              "      <td>-81334.0</td>\n",
              "      <td>1763.00</td>\n",
              "      <td>18104.5</td>\n",
              "      <td>50190.50</td>\n",
              "      <td>927171.0</td>\n",
              "    </tr>\n",
              "    <tr>\n",
              "      <th>BILL_AMT6</th>\n",
              "      <td>30000.0</td>\n",
              "      <td>38871.760400</td>\n",
              "      <td>59554.107537</td>\n",
              "      <td>-339603.0</td>\n",
              "      <td>1256.00</td>\n",
              "      <td>17071.0</td>\n",
              "      <td>49198.25</td>\n",
              "      <td>961664.0</td>\n",
              "    </tr>\n",
              "    <tr>\n",
              "      <th>PAY_AMT1</th>\n",
              "      <td>30000.0</td>\n",
              "      <td>5663.580500</td>\n",
              "      <td>16563.280354</td>\n",
              "      <td>0.0</td>\n",
              "      <td>1000.00</td>\n",
              "      <td>2100.0</td>\n",
              "      <td>5006.00</td>\n",
              "      <td>873552.0</td>\n",
              "    </tr>\n",
              "    <tr>\n",
              "      <th>PAY_AMT2</th>\n",
              "      <td>30000.0</td>\n",
              "      <td>5921.163500</td>\n",
              "      <td>23040.870402</td>\n",
              "      <td>0.0</td>\n",
              "      <td>833.00</td>\n",
              "      <td>2009.0</td>\n",
              "      <td>5000.00</td>\n",
              "      <td>1684259.0</td>\n",
              "    </tr>\n",
              "    <tr>\n",
              "      <th>PAY_AMT3</th>\n",
              "      <td>30000.0</td>\n",
              "      <td>5225.681500</td>\n",
              "      <td>17606.961470</td>\n",
              "      <td>0.0</td>\n",
              "      <td>390.00</td>\n",
              "      <td>1800.0</td>\n",
              "      <td>4505.00</td>\n",
              "      <td>896040.0</td>\n",
              "    </tr>\n",
              "    <tr>\n",
              "      <th>PAY_AMT4</th>\n",
              "      <td>30000.0</td>\n",
              "      <td>4826.076867</td>\n",
              "      <td>15666.159744</td>\n",
              "      <td>0.0</td>\n",
              "      <td>296.00</td>\n",
              "      <td>1500.0</td>\n",
              "      <td>4013.25</td>\n",
              "      <td>621000.0</td>\n",
              "    </tr>\n",
              "    <tr>\n",
              "      <th>PAY_AMT5</th>\n",
              "      <td>30000.0</td>\n",
              "      <td>4799.387633</td>\n",
              "      <td>15278.305679</td>\n",
              "      <td>0.0</td>\n",
              "      <td>252.50</td>\n",
              "      <td>1500.0</td>\n",
              "      <td>4031.50</td>\n",
              "      <td>426529.0</td>\n",
              "    </tr>\n",
              "    <tr>\n",
              "      <th>PAY_AMT6</th>\n",
              "      <td>30000.0</td>\n",
              "      <td>5215.502567</td>\n",
              "      <td>17777.465775</td>\n",
              "      <td>0.0</td>\n",
              "      <td>117.75</td>\n",
              "      <td>1500.0</td>\n",
              "      <td>4000.00</td>\n",
              "      <td>528666.0</td>\n",
              "    </tr>\n",
              "    <tr>\n",
              "      <th>default payment_next_month</th>\n",
              "      <td>30000.0</td>\n",
              "      <td>0.221200</td>\n",
              "      <td>0.415062</td>\n",
              "      <td>0.0</td>\n",
              "      <td>0.00</td>\n",
              "      <td>0.0</td>\n",
              "      <td>0.00</td>\n",
              "      <td>1.0</td>\n",
              "    </tr>\n",
              "  </tbody>\n",
              "</table>\n",
              "</div>\n",
              "      <button class=\"colab-df-convert\" onclick=\"convertToInteractive('df-d7106fa9-1491-4d36-af55-ec804d279191')\"\n",
              "              title=\"Convert this dataframe to an interactive table.\"\n",
              "              style=\"display:none;\">\n",
              "        \n",
              "  <svg xmlns=\"http://www.w3.org/2000/svg\" height=\"24px\"viewBox=\"0 0 24 24\"\n",
              "       width=\"24px\">\n",
              "    <path d=\"M0 0h24v24H0V0z\" fill=\"none\"/>\n",
              "    <path d=\"M18.56 5.44l.94 2.06.94-2.06 2.06-.94-2.06-.94-.94-2.06-.94 2.06-2.06.94zm-11 1L8.5 8.5l.94-2.06 2.06-.94-2.06-.94L8.5 2.5l-.94 2.06-2.06.94zm10 10l.94 2.06.94-2.06 2.06-.94-2.06-.94-.94-2.06-.94 2.06-2.06.94z\"/><path d=\"M17.41 7.96l-1.37-1.37c-.4-.4-.92-.59-1.43-.59-.52 0-1.04.2-1.43.59L10.3 9.45l-7.72 7.72c-.78.78-.78 2.05 0 2.83L4 21.41c.39.39.9.59 1.41.59.51 0 1.02-.2 1.41-.59l7.78-7.78 2.81-2.81c.8-.78.8-2.07 0-2.86zM5.41 20L4 18.59l7.72-7.72 1.47 1.35L5.41 20z\"/>\n",
              "  </svg>\n",
              "      </button>\n",
              "      \n",
              "  <style>\n",
              "    .colab-df-container {\n",
              "      display:flex;\n",
              "      flex-wrap:wrap;\n",
              "      gap: 12px;\n",
              "    }\n",
              "\n",
              "    .colab-df-convert {\n",
              "      background-color: #E8F0FE;\n",
              "      border: none;\n",
              "      border-radius: 50%;\n",
              "      cursor: pointer;\n",
              "      display: none;\n",
              "      fill: #1967D2;\n",
              "      height: 32px;\n",
              "      padding: 0 0 0 0;\n",
              "      width: 32px;\n",
              "    }\n",
              "\n",
              "    .colab-df-convert:hover {\n",
              "      background-color: #E2EBFA;\n",
              "      box-shadow: 0px 1px 2px rgba(60, 64, 67, 0.3), 0px 1px 3px 1px rgba(60, 64, 67, 0.15);\n",
              "      fill: #174EA6;\n",
              "    }\n",
              "\n",
              "    [theme=dark] .colab-df-convert {\n",
              "      background-color: #3B4455;\n",
              "      fill: #D2E3FC;\n",
              "    }\n",
              "\n",
              "    [theme=dark] .colab-df-convert:hover {\n",
              "      background-color: #434B5C;\n",
              "      box-shadow: 0px 1px 3px 1px rgba(0, 0, 0, 0.15);\n",
              "      filter: drop-shadow(0px 1px 2px rgba(0, 0, 0, 0.3));\n",
              "      fill: #FFFFFF;\n",
              "    }\n",
              "  </style>\n",
              "\n",
              "      <script>\n",
              "        const buttonEl =\n",
              "          document.querySelector('#df-d7106fa9-1491-4d36-af55-ec804d279191 button.colab-df-convert');\n",
              "        buttonEl.style.display =\n",
              "          google.colab.kernel.accessAllowed ? 'block' : 'none';\n",
              "\n",
              "        async function convertToInteractive(key) {\n",
              "          const element = document.querySelector('#df-d7106fa9-1491-4d36-af55-ec804d279191');\n",
              "          const dataTable =\n",
              "            await google.colab.kernel.invokeFunction('convertToInteractive',\n",
              "                                                     [key], {});\n",
              "          if (!dataTable) return;\n",
              "\n",
              "          const docLinkHtml = 'Like what you see? Visit the ' +\n",
              "            '<a target=\"_blank\" href=https://colab.research.google.com/notebooks/data_table.ipynb>data table notebook</a>'\n",
              "            + ' to learn more about interactive tables.';\n",
              "          element.innerHTML = '';\n",
              "          dataTable['output_type'] = 'display_data';\n",
              "          await google.colab.output.renderOutput(dataTable, element);\n",
              "          const docLink = document.createElement('div');\n",
              "          docLink.innerHTML = docLinkHtml;\n",
              "          element.appendChild(docLink);\n",
              "        }\n",
              "      </script>\n",
              "    </div>\n",
              "  </div>\n",
              "  "
            ]
          },
          "metadata": {},
          "execution_count": 9
        }
      ]
    },
    {
      "cell_type": "markdown",
      "source": [
        "### Observations from the descriptive stats\n",
        "* Mean value for credit card credit limit is 167,484. Standard deviation is quite high.\n",
        "* By looking at the target column (default_payment_next_month), it seems data is imbalanced with 78:22 ration.\n",
        "*35.5 years is the average age of the credit card customers with 9.2 standard deviation\n"
      ],
      "metadata": {
        "id": "8UFQPCyXZG3a"
      }
    },
    {
      "cell_type": "code",
      "source": [
        "# Dataset Target Class Imbalance\n",
        "class_cnt = df['default payment_next_month'].value_counts()\n",
        "class_cnt.plot.bar(figsize=(6,6))\n",
        "plt.xticks(fontsize=12, rotation=0)\n",
        "plt.yticks(fontsize=12)\n",
        "plt.title(\"Default Customers? Yes (1) vs. No (0)\", fontsize=15)\n",
        "for x,y in zip([0,1],class_cnt):\n",
        "    plt.text(x,y,y,fontsize=12)\n",
        "plt.show()"
      ],
      "metadata": {
        "colab": {
          "base_uri": "https://localhost:8080/",
          "height": 395
        },
        "id": "sX9fsXHPYG3P",
        "outputId": "bef25d03-e290-4431-bccd-47aa86225131"
      },
      "execution_count": 11,
      "outputs": [
        {
          "output_type": "display_data",
          "data": {
            "text/plain": [
              "<Figure size 432x432 with 1 Axes>"
            ],
            "image/png": "[encoded data removed]"
          },
          "metadata": {
            "needs_background": "light"
          }
        }
      ]
    },
    {
      "cell_type": "markdown",
      "source": [
        "78% of the customers are not going to default and 22% of the customers are going to default next month."
      ],
      "metadata": {
        "id": "SpJ_bILfflrj"
      }
    },
    {
      "cell_type": "code",
      "source": [
        "# Checking the correlation for each variables\n",
        "corr = df.corr()\n",
        "\n",
        "plt.figure(figsize=(18, 15))\n",
        "sns.heatmap(corr, annot=True, vmin=-1.0, cmap='mako')\n",
        "plt.title(\"Correlation Heatmap\")\n",
        "plt.show()"
      ],
      "metadata": {
        "colab": {
          "base_uri": "https://localhost:8080/",
          "height": 1000
        },
        "id": "D5NLM4IBYG0I",
        "outputId": "c09788c4-1cfc-45bd-b8b9-2fe107cfa9f1"
      },
      "execution_count": 12,
      "outputs": [
        {
          "output_type": "display_data",
          "data": {
            "text/plain": [
              "<Figure size 1296x1080 with 2 Axes>"
            ],
            "image/png": "[encoded data removed]"
          },
          "metadata": {
            "needs_background": "light"
          }
        }
      ]
    },
    {
      "cell_type": "markdown",
      "source": [
        "### Observations\n",
        "* Ignore the ID column as it does not say much insoghts\n",
        "* BILL_AMT1 to BILL_AMT6 seems to be highly correlated than other variable of teh dataset\n",
        "* Variables PAY_0 to PAY_6 is shows how late the customer is late in payments\n",
        "* Age and Marriage is negatively correlated  but they are categorical/ ordinal so ignoring that."
      ],
      "metadata": {
        "id": "XgalVinOhF7h"
      }
    },
    {
      "cell_type": "code",
      "source": [
        "# Checking the Value counts for categorical variables\n",
        "\n",
        "df['EDUCATION'].value_counts()\n"
      ],
      "metadata": {
        "colab": {
          "base_uri": "https://localhost:8080/"
        },
        "id": "2GiabP6Sikq1",
        "outputId": "4a3648f5-e661-4811-98af-eb1d990cbef0"
      },
      "execution_count": 13,
      "outputs": [
        {
          "output_type": "execute_result",
          "data": {
            "text/plain": [
              "2    14030\n",
              "1    10585\n",
              "3     4917\n",
              "5      280\n",
              "4      123\n",
              "6       51\n",
              "0       14\n",
              "Name: EDUCATION, dtype: int64"
            ]
          },
          "metadata": {},
          "execution_count": 13
        }
      ]
    },
    {
      "cell_type": "code",
      "source": [
        "df['MARRIAGE'].value_counts()"
      ],
      "metadata": {
        "colab": {
          "base_uri": "https://localhost:8080/"
        },
        "id": "kt_8VvK3i5A2",
        "outputId": "f968b226-d077-49c0-d4df-5860825e04f2"
      },
      "execution_count": 14,
      "outputs": [
        {
          "output_type": "execute_result",
          "data": {
            "text/plain": [
              "2    15964\n",
              "1    13659\n",
              "3      323\n",
              "0       54\n",
              "Name: MARRIAGE, dtype: int64"
            ]
          },
          "metadata": {},
          "execution_count": 14
        }
      ]
    },
    {
      "cell_type": "code",
      "source": [
        "df['SEX'].value_counts()"
      ],
      "metadata": {
        "colab": {
          "base_uri": "https://localhost:8080/"
        },
        "id": "aNnFjUs6jCOL",
        "outputId": "a40a02c4-cf1b-4d4b-8822-58b76df90d94"
      },
      "execution_count": 15,
      "outputs": [
        {
          "output_type": "execute_result",
          "data": {
            "text/plain": [
              "2    18112\n",
              "1    11888\n",
              "Name: SEX, dtype: int64"
            ]
          },
          "metadata": {},
          "execution_count": 15
        }
      ]
    },
    {
      "cell_type": "markdown",
      "source": [
        ""
      ],
      "metadata": {
        "id": "iyljhI5mh0d2"
      }
    },
    {
      "cell_type": "markdown",
      "source": [
        "### Observation from checking value counts \n",
        "* Education: As per the data description, there are only 4 categories so 5,6,0 is something new. So that those instances needs to be merged with 4 which is actucally classed as 'Others'. This will be done in the pre-processing stage.\n",
        "* Marriage: Again here, there is no description for 0. Hence this will be merged with 3 as it is described as 'Others'. This will be done in the pre-processing stage.\n"
      ],
      "metadata": {
        "id": "sSbDbStakOAu"
      }
    },
    {
      "cell_type": "code",
      "source": [
        "sns.distplot(df['LIMIT_BAL'])"
      ],
      "metadata": {
        "colab": {
          "base_uri": "https://localhost:8080/",
          "height": 363
        },
        "id": "BEwLcx1itoZN",
        "outputId": "ae80aa81-22a9-4472-a642-309047cbdd49"
      },
      "execution_count": 16,
      "outputs": [
        {
          "output_type": "stream",
          "name": "stderr",
          "text": [
            "/usr/local/lib/python3.7/dist-packages/seaborn/distributions.py:2619: FutureWarning: `distplot` is a deprecated function and will be removed in a future version. Please adapt your code to use either `displot` (a figure-level function with similar flexibility) or `histplot` (an axes-level function for histograms).\n",
            "  warnings.warn(msg, FutureWarning)\n"
          ]
        },
        {
          "output_type": "execute_result",
          "data": {
            "text/plain": [
              "<matplotlib.axes._subplots.AxesSubplot at 0x7f2bd78e5850>"
            ]
          },
          "metadata": {},
          "execution_count": 16
        },
        {
          "output_type": "display_data",
          "data": {
            "text/plain": [
              "<Figure size 432x288 with 1 Axes>"
            ],
            "image/png": "[encoded data removed]"
          },
          "metadata": {
            "needs_background": "light"
          }
        }
      ]
    },
    {
      "cell_type": "code",
      "source": [
        "feature_names = df.columns\n",
        "feature_names"
      ],
      "metadata": {
        "colab": {
          "base_uri": "https://localhost:8080/"
        },
        "id": "A0DjCyvzQIik",
        "outputId": "05cfd7fe-ea54-45d3-cdaf-2553f1b39af1"
      },
      "execution_count": 44,
      "outputs": [
        {
          "output_type": "execute_result",
          "data": {
            "text/plain": [
              "Index(['ID', 'LIMIT_BAL', 'SEX', 'EDUCATION', 'MARRIAGE', 'AGE', 'PAY_1',\n",
              "       'PAY_2', 'PAY_3', 'PAY_4', 'PAY_5', 'PAY_6', 'BILL_AMT1', 'BILL_AMT2',\n",
              "       'BILL_AMT3', 'BILL_AMT4', 'BILL_AMT5', 'BILL_AMT6', 'PAY_AMT1',\n",
              "       'PAY_AMT2', 'PAY_AMT3', 'PAY_AMT4', 'PAY_AMT5', 'PAY_AMT6',\n",
              "       'default_payment'],\n",
              "      dtype='object')"
            ]
          },
          "metadata": {},
          "execution_count": 44
        }
      ]
    },
    {
      "cell_type": "markdown",
      "source": [
        "## **5. Pre-Processing Steps**\n",
        "Based on the exploration and analysis above, in this stage I will start to transform the data and apply some pre-processing steps such as standard scaling, One Hot Encoder and basic renaming of columns etc..."
      ],
      "metadata": {
        "id": "uFtZ7scktFr2"
      }
    },
    {
      "cell_type": "code",
      "source": [
        "# Renaming some of the columns for consistency and readability\n",
        "\n",
        "df.rename(columns={'default payment_next_month':'default_payment'}, \n",
        "          inplace=True)\n",
        "df.rename(columns={'PAY_0':'PAY_1'}, inplace=True)"
      ],
      "metadata": {
        "id": "vLVhiEH9u-yp"
      },
      "execution_count": 17,
      "outputs": []
    },
    {
      "cell_type": "code",
      "source": [
        "# Re-assigning the values for the categorical variables Marriage and Education as per the data dictionary\n",
        "fill = (df['EDUCATION'] == 5) | (df['EDUCATION'] == 6) | (df['EDUCATION'] == 0)\n",
        "df.loc[fill, 'EDUCATION'] = 4\n",
        "df.loc[df['MARRIAGE'] == 0, 'MARRIAGE'] = 3"
      ],
      "metadata": {
        "id": "b2xX71f0vO6H"
      },
      "execution_count": 18,
      "outputs": []
    },
    {
      "cell_type": "code",
      "source": [
        "#Using the one hot encoder for the marriage and education columns as they are nominal features and they cannot be ordered in a meaningful way.\n",
        "#Because the model might not take these values as categorical so the one hot encoder will create seperate columns for each values for these columns\n",
        "\n",
        "#each unique value as its own column and own feature\n",
        "def onehot_encode(data, column_dict):\n",
        "    data = data.copy()\n",
        "    \n",
        "    for column, prefix in column_dict.items():\n",
        "        dummies= pd.get_dummies(data[column], prefix= prefix) #using get dummies to create columns\n",
        "        data = pd.concat([data, dummies], axis=1)\n",
        "        data = data.drop(column, axis=1)\n",
        "    return data"
      ],
      "metadata": {
        "id": "KwTu-vLUxubf"
      },
      "execution_count": 19,
      "outputs": []
    },
    {
      "cell_type": "code",
      "source": [
        "def preprocess_inputs(data):\n",
        "    data = data.copy()\n",
        "    \n",
        "    # Drop 'ID' column- This is not giving any useful info as this is just an ID column\n",
        "    data = data.drop('ID', axis = 1)\n",
        "    \n",
        "    data = onehot_encode(\n",
        "    data,\n",
        "    {\n",
        "        'EDUCATION': 'EDU',\n",
        "        'MARRIAGE': 'MAR'\n",
        "    }\n",
        "    )\n",
        "    \n",
        "    #Splitting the data to X, y\n",
        "    y = data['default_payment'].copy()\n",
        "    X = data.drop('default_payment', axis = 1).copy()\n",
        "    \n",
        "    # Scaling the data to take similar range of values as the data is not scaled. Standardise column\n",
        "    scaler = StandardScaler()\n",
        "    X = pd.DataFrame(scaler.fit_transform(X), columns = X.columns)\n",
        "    \n",
        "    return X, y"
      ],
      "metadata": {
        "id": "WPB8SCEL0YW9"
      },
      "execution_count": 20,
      "outputs": []
    },
    {
      "cell_type": "code",
      "source": [
        "X, y = preprocess_inputs(df)"
      ],
      "metadata": {
        "id": "w78qa9La1vCU"
      },
      "execution_count": 21,
      "outputs": []
    },
    {
      "cell_type": "code",
      "source": [
        "{column: len(X[column].unique()) for column in X.columns}"
      ],
      "metadata": {
        "colab": {
          "base_uri": "https://localhost:8080/"
        },
        "id": "gN2JKRMw3LTR",
        "outputId": "36153a29-4b69-4f79-bf85-69aa7658d798"
      },
      "execution_count": 22,
      "outputs": [
        {
          "output_type": "execute_result",
          "data": {
            "text/plain": [
              "{'AGE': 56,\n",
              " 'BILL_AMT1': 22723,\n",
              " 'BILL_AMT2': 22346,\n",
              " 'BILL_AMT3': 22026,\n",
              " 'BILL_AMT4': 21548,\n",
              " 'BILL_AMT5': 21010,\n",
              " 'BILL_AMT6': 20604,\n",
              " 'EDU_1': 2,\n",
              " 'EDU_2': 2,\n",
              " 'EDU_3': 2,\n",
              " 'EDU_4': 2,\n",
              " 'LIMIT_BAL': 81,\n",
              " 'MAR_1': 2,\n",
              " 'MAR_2': 2,\n",
              " 'MAR_3': 2,\n",
              " 'PAY_1': 11,\n",
              " 'PAY_2': 11,\n",
              " 'PAY_3': 11,\n",
              " 'PAY_4': 11,\n",
              " 'PAY_5': 10,\n",
              " 'PAY_6': 10,\n",
              " 'PAY_AMT1': 7943,\n",
              " 'PAY_AMT2': 7899,\n",
              " 'PAY_AMT3': 7518,\n",
              " 'PAY_AMT4': 6937,\n",
              " 'PAY_AMT5': 6897,\n",
              " 'PAY_AMT6': 6939,\n",
              " 'SEX': 2}"
            ]
          },
          "metadata": {},
          "execution_count": 22
        }
      ]
    },
    {
      "cell_type": "markdown",
      "source": [
        "## **6. Baseline Model**\n",
        "I will now begin to build some baseline models to see how this performs and what results I get. Based on this baseline, I can then see what further steps I will need to take to for the final model such as feature selection, optimisation, cross validation, Hyperparameter tuning etc...\n"
      ],
      "metadata": {
        "id": "M9nyx5Lc4R03"
      }
    },
    {
      "cell_type": "markdown",
      "source": [
        "### Train Test Split"
      ],
      "metadata": {
        "id": "48UdWTuh97O0"
      }
    },
    {
      "cell_type": "code",
      "source": [
        "X_train, X_test, y_train, y_test = train_test_split(X, y, train_size=0.2, random_state=101)"
      ],
      "metadata": {
        "id": "Wt3GILe2-ARd"
      },
      "execution_count": 23,
      "outputs": []
    },
    {
      "cell_type": "markdown",
      "source": [
        "### 6a. Logistic Regression"
      ],
      "metadata": {
        "id": "NHi639Ci9pTt"
      }
    },
    {
      "cell_type": "code",
      "source": [
        "logmodel = LogisticRegression()\n",
        "logmodel.fit(X_train,y_train)"
      ],
      "metadata": {
        "colab": {
          "base_uri": "https://localhost:8080/"
        },
        "id": "WW_30t4J3cCt",
        "outputId": "0b7da9cc-7f77-47f7-d406-7ffa0869afb0"
      },
      "execution_count": 24,
      "outputs": [
        {
          "output_type": "execute_result",
          "data": {
            "text/plain": [
              "LogisticRegression()"
            ]
          },
          "metadata": {},
          "execution_count": 24
        }
      ]
    },
    {
      "cell_type": "code",
      "source": [
        "log_predictions = logmodel.predict(X_test)"
      ],
      "metadata": {
        "id": "57_-Af99-sMn"
      },
      "execution_count": 25,
      "outputs": []
    },
    {
      "cell_type": "code",
      "source": [
        "logmodel.score(X_test,y_test)*100"
      ],
      "metadata": {
        "colab": {
          "base_uri": "https://localhost:8080/"
        },
        "id": "HH7JGUKr_EI5",
        "outputId": "efab6e45-0820-42f8-91b5-cb7f00579627"
      },
      "execution_count": 26,
      "outputs": [
        {
          "output_type": "execute_result",
          "data": {
            "text/plain": [
              "81.30416666666666"
            ]
          },
          "metadata": {},
          "execution_count": 26
        }
      ]
    },
    {
      "cell_type": "markdown",
      "source": [
        "### 6b. Support Vector Machine (SVM)"
      ],
      "metadata": {
        "id": "8H4pDjB9AuNH"
      }
    },
    {
      "cell_type": "code",
      "source": [
        "svm_model = SVC()\n",
        "svm_model.fit(X_train,y_train)"
      ],
      "metadata": {
        "colab": {
          "base_uri": "https://localhost:8080/"
        },
        "id": "Ea0E_qGIAsKZ",
        "outputId": "df1be07a-500e-4e3f-e4e2-fb9bab96354c"
      },
      "execution_count": 27,
      "outputs": [
        {
          "output_type": "execute_result",
          "data": {
            "text/plain": [
              "SVC()"
            ]
          },
          "metadata": {},
          "execution_count": 27
        }
      ]
    },
    {
      "cell_type": "code",
      "source": [
        "svm_predictions = svm_model.predict(X_test)"
      ],
      "metadata": {
        "id": "i9dZ8_JyBPdu"
      },
      "execution_count": 28,
      "outputs": []
    },
    {
      "cell_type": "code",
      "source": [
        "svm_model.score(X_test,y_test)*100"
      ],
      "metadata": {
        "colab": {
          "base_uri": "https://localhost:8080/"
        },
        "id": "nPY_uaihBXKc",
        "outputId": "c76345eb-532f-4f1e-b5d6-f851527cd0da"
      },
      "execution_count": 29,
      "outputs": [
        {
          "output_type": "execute_result",
          "data": {
            "text/plain": [
              "82.0125"
            ]
          },
          "metadata": {},
          "execution_count": 29
        }
      ]
    },
    {
      "cell_type": "markdown",
      "source": [
        "### 6c. Random Forest"
      ],
      "metadata": {
        "id": "c3pP_XWbCWlg"
      }
    },
    {
      "cell_type": "code",
      "source": [
        "rfc_model = RandomForestClassifier(n_estimators=300)\n",
        "rfc_model.fit(X_train,y_train)"
      ],
      "metadata": {
        "colab": {
          "base_uri": "https://localhost:8080/"
        },
        "id": "YJjwf36EBxL_",
        "outputId": "b4ea1852-c113-48b1-a419-21f6b968954d"
      },
      "execution_count": 30,
      "outputs": [
        {
          "output_type": "execute_result",
          "data": {
            "text/plain": [
              "RandomForestClassifier(n_estimators=300)"
            ]
          },
          "metadata": {},
          "execution_count": 30
        }
      ]
    },
    {
      "cell_type": "code",
      "source": [
        "rfc_predictions = rfc_model.predict(X_test)"
      ],
      "metadata": {
        "id": "SHkp3OCxC_36"
      },
      "execution_count": 31,
      "outputs": []
    },
    {
      "cell_type": "code",
      "source": [
        "rfc_model.score(X_test,y_test)*100"
      ],
      "metadata": {
        "colab": {
          "base_uri": "https://localhost:8080/"
        },
        "id": "nt2UtZkWDFZm",
        "outputId": "b3bd2faa-15dc-42f4-ceb1-cd14ed6fc954"
      },
      "execution_count": 102,
      "outputs": [
        {
          "output_type": "execute_result",
          "data": {
            "text/plain": [
              "81.50833333333334"
            ]
          },
          "metadata": {},
          "execution_count": 102
        }
      ]
    },
    {
      "cell_type": "markdown",
      "source": [
        "### 6d. K- Nearest Neighbors"
      ],
      "metadata": {
        "id": "o_bZzIGVEv_p"
      }
    },
    {
      "cell_type": "code",
      "source": [
        "knnclassifier=KNeighborsClassifier(n_neighbors=8,algorithm='auto',\n",
        "                                    leaf_size=30,metric='minkowski')\n",
        "knnclassifier.fit(X_train, y_train)"
      ],
      "metadata": {
        "colab": {
          "base_uri": "https://localhost:8080/"
        },
        "id": "IFDAvBkNE7vL",
        "outputId": "ca2e92d9-531d-4135-c529-20d81e684519"
      },
      "execution_count": 32,
      "outputs": [
        {
          "output_type": "execute_result",
          "data": {
            "text/plain": [
              "KNeighborsClassifier(n_neighbors=8)"
            ]
          },
          "metadata": {},
          "execution_count": 32
        }
      ]
    },
    {
      "cell_type": "code",
      "source": [
        "knn_predictions= knnclassifier.predict(X_test)"
      ],
      "metadata": {
        "id": "NgyWxy6mGaS0"
      },
      "execution_count": 33,
      "outputs": []
    },
    {
      "cell_type": "code",
      "source": [
        "knnclassifier.score(X_test, y_test)*100"
      ],
      "metadata": {
        "colab": {
          "base_uri": "https://localhost:8080/"
        },
        "id": "y3oeKrq_GIWI",
        "outputId": "0b7eedb5-8751-4a93-ba6b-adbd483daea2"
      },
      "execution_count": 34,
      "outputs": [
        {
          "output_type": "execute_result",
          "data": {
            "text/plain": [
              "79.84166666666667"
            ]
          },
          "metadata": {},
          "execution_count": 34
        }
      ]
    },
    {
      "cell_type": "markdown",
      "source": [
        "### 6e. MLP Classifier"
      ],
      "metadata": {
        "id": "DMMYkPncITKj"
      }
    },
    {
      "cell_type": "code",
      "source": [
        "mlp_model = MLPClassifier()\n",
        "mlp_model.fit(X_train, y_train)"
      ],
      "metadata": {
        "colab": {
          "base_uri": "https://localhost:8080/"
        },
        "id": "QkvXg4JRISTa",
        "outputId": "af14bd3f-f266-4c29-f9f1-1f6e88cf3766"
      },
      "execution_count": 35,
      "outputs": [
        {
          "output_type": "stream",
          "name": "stderr",
          "text": [
            "/usr/local/lib/python3.7/dist-packages/sklearn/neural_network/_multilayer_perceptron.py:696: ConvergenceWarning: Stochastic Optimizer: Maximum iterations (200) reached and the optimization hasn't converged yet.\n",
            "  ConvergenceWarning,\n"
          ]
        },
        {
          "output_type": "execute_result",
          "data": {
            "text/plain": [
              "MLPClassifier()"
            ]
          },
          "metadata": {},
          "execution_count": 35
        }
      ]
    },
    {
      "cell_type": "code",
      "source": [
        "mlp_predictions= mlp_model.predict(X_test)"
      ],
      "metadata": {
        "id": "gJ0FX48BI9Ln"
      },
      "execution_count": 39,
      "outputs": []
    },
    {
      "cell_type": "code",
      "source": [
        "mlp_model.score(X_test, y_test)*100"
      ],
      "metadata": {
        "colab": {
          "base_uri": "https://localhost:8080/"
        },
        "id": "-Q1d65gGI9JA",
        "outputId": "7c834116-4f28-49be-d636-0cd4f0e8bad7"
      },
      "execution_count": 40,
      "outputs": [
        {
          "output_type": "execute_result",
          "data": {
            "text/plain": [
              "80.38333333333333"
            ]
          },
          "metadata": {},
          "execution_count": 40
        }
      ]
    },
    {
      "cell_type": "markdown",
      "source": [
        "## **7. Evaluation**\n",
        "In this stage, I will apply some model evaluation techniques to advise my final model with best accuracy scores and performance. I will also look at some hypertuning parameters on individual models to evaluate if that will help the model to perform better."
      ],
      "metadata": {
        "id": "SkjSnfx5SZ3A"
      }
    },
    {
      "cell_type": "markdown",
      "source": [
        "### 7a. Individual Model Evaluation steps\n",
        "Here I will use some standard model evaluation steps such as Confusion Matrix, Accuracy, F1 score, Precision, Recall and Specificity and Sensitivity"
      ],
      "metadata": {
        "id": "nR5iLfebT-yi"
      }
    },
    {
      "cell_type": "markdown",
      "source": [
        "Logistic Regression Classifier Evaluation"
      ],
      "metadata": {
        "id": "Qlttb9AMZafP"
      }
    },
    {
      "cell_type": "code",
      "source": [
        "# Classification report and Confusion Matrix\n",
        "print(classification_report(y_test,log_predictions))\n",
        "log_cm = confusion_matrix(y_test,log_predictions)\n",
        "print(log_cm)\n",
        "\n",
        "#Precision and Recall\n",
        "log_recall= recall_score(y_test, log_predictions, pos_label=0)*100\n",
        "print(f\"Recall:{log_recall}\")\n",
        "\n",
        "log_precision= precision_score(y_test, log_predictions, pos_label=0)\n",
        "print(f\"Precision:{log_precision}\")\n",
        "\n",
        "#Accuracy Score\n",
        "print(accuracy_score(y_test, log_predictions)*100)\n",
        "\n",
        "#F1 score\n",
        "print(f1_score(y_test, log_predictions, pos_label=0)*100)\n",
        "\n",
        "#Sensitivity and Specificity\n",
        "log_sensitivity = log_cm[0,0]/(log_cm[0,0]+log_cm[1,0])\n",
        "print(f\"Sensitivity:{log_sensitivity}\")\n",
        "\n",
        "log_specificity = log_cm[1,1]/(log_cm[1,1]+log_cm[0,1])\n",
        "print(f\"Specificity:{log_specificity}\")"
      ],
      "metadata": {
        "colab": {
          "base_uri": "https://localhost:8080/"
        },
        "outputId": "8cd244c2-6660-41e4-83d0-a51287d0a184",
        "id": "1hJgoiWDaLix"
      },
      "execution_count": 36,
      "outputs": [
        {
          "output_type": "stream",
          "name": "stdout",
          "text": [
            "              precision    recall  f1-score   support\n",
            "\n",
            "           0       0.82      0.97      0.89     18735\n",
            "           1       0.71      0.25      0.37      5265\n",
            "\n",
            "    accuracy                           0.81     24000\n",
            "   macro avg       0.77      0.61      0.63     24000\n",
            "weighted avg       0.80      0.81      0.78     24000\n",
            "\n",
            "[[18205   530]\n",
            " [ 3957  1308]]\n",
            "Recall:97.17107018948492\n",
            "Precision:0.8214511325692627\n",
            "81.30416666666666\n",
            "89.0285351003741\n",
            "Sensitivity:0.8214511325692627\n",
            "Specificity:0.7116430903155604\n"
          ]
        }
      ]
    },
    {
      "cell_type": "markdown",
      "source": [
        "SVM Classifier Evaluation"
      ],
      "metadata": {
        "id": "5WmsRbUUYlxe"
      }
    },
    {
      "cell_type": "code",
      "source": [
        "# Classification report and Confusion Matrix\n",
        "print(classification_report(y_test,svm_predictions))\n",
        "svm_cm= confusion_matrix(y_test,svm_predictions)\n",
        "print(svm_cm)\n",
        "\n",
        "#Precision and Recall\n",
        "svm_recall = recall_score(y_test, svm_predictions, pos_label=0)*100\n",
        "print(f\"Recall:{svm_recall}\")\n",
        "\n",
        "svm_precision= precision_score(y_test, svm_predictions, pos_label=0)\n",
        "print(f\"Precision:{svm_precision}\")\n",
        "\n",
        "#Accuracy Score\n",
        "print(accuracy_score(y_test, svm_predictions)*100)\n",
        "\n",
        "#F1 score\n",
        "print(f1_score(y_test, svm_predictions, pos_label=0)*100)\n",
        "\n",
        "#Sensitivity and Specificity\n",
        "svm_sensitivity = svm_cm[0,0]/(svm_cm[0,0]+svm_cm[1,0])\n",
        "print(f\"Sensitivity:{svm_sensitivity}\")\n",
        "\n",
        "svm_specificity = svm_cm[1,1]/(svm_cm[1,1]+svm_cm[0,1])\n",
        "print(f\"Specificity:{svm_specificity}\")\n"
      ],
      "metadata": {
        "colab": {
          "base_uri": "https://localhost:8080/"
        },
        "id": "QgTkH9ElZXcj",
        "outputId": "814a1eb1-3331-435a-b3a9-126f9169b4c0"
      },
      "execution_count": 37,
      "outputs": [
        {
          "output_type": "stream",
          "name": "stdout",
          "text": [
            "              precision    recall  f1-score   support\n",
            "\n",
            "           0       0.83      0.96      0.89     18735\n",
            "           1       0.69      0.32      0.44      5265\n",
            "\n",
            "    accuracy                           0.82     24000\n",
            "   macro avg       0.76      0.64      0.67     24000\n",
            "weighted avg       0.80      0.82      0.79     24000\n",
            "\n",
            "[[17978   757]\n",
            " [ 3560  1705]]\n",
            "Recall:95.9594342140379\n",
            "Precision:0.8347107438016529\n",
            "82.0125\n",
            "89.28065949891987\n",
            "Sensitivity:0.8347107438016529\n",
            "Specificity:0.6925264012997563\n"
          ]
        }
      ]
    },
    {
      "cell_type": "markdown",
      "source": [
        "Random Forest Classifier Evaluation"
      ],
      "metadata": {
        "id": "_0VoqQocXLGr"
      }
    },
    {
      "cell_type": "code",
      "source": [
        "#Classification report and Confusion Matrix\n",
        "print(classification_report(y_test,rfc_predictions))\n",
        "rfc_cm = confusion_matrix(y_test,rfc_predictions)\n",
        "print(rfc_cm)\n",
        "\n",
        "#Precision and Recall\n",
        "rfc_recall= recall_score(y_test, rfc_predictions, pos_label=0)*100\n",
        "print(f\"Recall:{rfc_recall}\")\n",
        "\n",
        "rfc_precision= precision_score(y_test, rfc_predictions, pos_label=0)\n",
        "print(f\"Precision:{rfc_precision}\")\n",
        "\n",
        "#Accuracy Score\n",
        "print(accuracy_score(y_test, rfc_predictions)*100)\n",
        "\n",
        "#F1 Score\n",
        "print(f1_score(y_test, rfc_predictions, pos_label=0)*100)\n",
        "\n",
        "#Sensitivity and Specificity\n",
        "rfc_sensitivity = rfc_cm[0,0]/(rfc_cm[0,0]+rfc_cm[1,0])\n",
        "print(f\"Sensitivity:{rfc_sensitivity}\")\n",
        "\n",
        "rfc_specificity = rfc_cm[1,1]/(rfc_cm[1,1]+rfc_cm[0,1])\n",
        "print(f\"Specificity:{rfc_specificity}\")"
      ],
      "metadata": {
        "colab": {
          "base_uri": "https://localhost:8080/"
        },
        "id": "ZnsVa6RRYiUZ",
        "outputId": "7fe76c59-4473-4350-e37d-84e1ed8b197f"
      },
      "execution_count": 38,
      "outputs": [
        {
          "output_type": "stream",
          "name": "stdout",
          "text": [
            "              precision    recall  f1-score   support\n",
            "\n",
            "           0       0.84      0.94      0.89     18735\n",
            "           1       0.63      0.37      0.46      5265\n",
            "\n",
            "    accuracy                           0.81     24000\n",
            "   macro avg       0.74      0.65      0.68     24000\n",
            "weighted avg       0.79      0.81      0.79     24000\n",
            "\n",
            "[[17600  1135]\n",
            " [ 3329  1936]]\n",
            "Recall:93.94182012276488\n",
            "Precision:0.840938410817526\n",
            "81.39999999999999\n",
            "88.74546187979023\n",
            "Sensitivity:0.840938410817526\n",
            "Specificity:0.6304135460761967\n"
          ]
        }
      ]
    },
    {
      "cell_type": "code",
      "source": [
        "# Feature Importance\n",
        "sorted(zip(rfc_model.feature_importances_, feature_names), reverse=True) \n"
      ],
      "metadata": {
        "colab": {
          "base_uri": "https://localhost:8080/"
        },
        "id": "kmUQq7sRQYcm",
        "outputId": "adfd655f-9e3e-4c33-b683-51fb3b6d5556"
      },
      "execution_count": 45,
      "outputs": [
        {
          "output_type": "execute_result",
          "data": {
            "text/plain": [
              "[(0.09602327139222429, 'EDUCATION'),\n",
              " (0.06727267457056064, 'SEX'),\n",
              " (0.05881862231545672, 'ID'),\n",
              " (0.05849220889164241, 'PAY_4'),\n",
              " (0.05330974826960138, 'PAY_5'),\n",
              " (0.05231614102628997, 'BILL_AMT4'),\n",
              " (0.049132799118629146, 'BILL_AMT3'),\n",
              " (0.04882962080001014, 'PAY_6'),\n",
              " (0.048720235158924596, 'BILL_AMT1'),\n",
              " (0.0485537238273256, 'BILL_AMT2'),\n",
              " (0.04834512967848685, 'BILL_AMT5'),\n",
              " (0.044140464986565014, 'BILL_AMT6'),\n",
              " (0.04413593900870667, 'MARRIAGE'),\n",
              " (0.04355793253052674, 'PAY_AMT1'),\n",
              " (0.04305813529717559, 'PAY_AMT2'),\n",
              " (0.04237823085763811, 'PAY_AMT3'),\n",
              " (0.025823808780619347, 'AGE'),\n",
              " (0.0246121084444218, 'PAY_2'),\n",
              " (0.022798017858364543, 'PAY_3'),\n",
              " (0.0177777104248807, 'PAY_1'),\n",
              " (0.012965069924929623, 'LIMIT_BAL'),\n",
              " (0.010046281343205916, 'PAY_AMT5'),\n",
              " (0.009022499452973481, 'PAY_AMT4'),\n",
              " (0.008083262059681013, 'PAY_AMT6'),\n",
              " (0.0009425759621380864, 'default_payment')]"
            ]
          },
          "metadata": {},
          "execution_count": 45
        }
      ]
    },
    {
      "cell_type": "markdown",
      "source": [
        "KNN Classifier Evaluation"
      ],
      "metadata": {
        "id": "eYB5mZbDWLvz"
      }
    },
    {
      "cell_type": "code",
      "source": [
        "#Classification report and Confusion Matrix\n",
        "print(classification_report(y_test,knn_predictions))\n",
        "knn_cm = confusion_matrix(y_test,knn_predictions)\n",
        "print(knn_cm)\n",
        "\n",
        "#Precision and Recall\n",
        "knn_recall= recall_score(y_test, knn_predictions, pos_label=0)*100\n",
        "print(f\"Recall:{knn_recall}\")\n",
        "\n",
        "knn_precision= precision_score(y_test, knn_predictions, pos_label=0)\n",
        "print(f\"Precision:{knn_precision}\")\n",
        "\n",
        "#Accuracy Score\n",
        "print(accuracy_score(y_test, knn_predictions)*100)\n",
        "\n",
        "#F1 score\n",
        "print(f1_score(y_test, knn_predictions, pos_label=0)*100)\n",
        "\n",
        "#Sensitivity and Specificity\n",
        "knn_sensitivity = knn_cm[0,0]/(knn_cm[0,0]+knn_cm[1,0])\n",
        "print(f\"Sensitivity:{knn_sensitivity}\")\n",
        "\n",
        "knn_specificity = knn_cm[1,1]/(knn_cm[1,1]+knn_cm[0,1])\n",
        "print(f\"Specificity:{knn_specificity}\")"
      ],
      "metadata": {
        "colab": {
          "base_uri": "https://localhost:8080/"
        },
        "id": "Z8bF-VJ6XH69",
        "outputId": "8a231437-fd34-450b-f032-97adcaf0aa39"
      },
      "execution_count": 41,
      "outputs": [
        {
          "output_type": "stream",
          "name": "stdout",
          "text": [
            "              precision    recall  f1-score   support\n",
            "\n",
            "           0       0.82      0.96      0.88     18735\n",
            "           1       0.61      0.23      0.33      5265\n",
            "\n",
            "    accuracy                           0.80     24000\n",
            "   macro avg       0.71      0.59      0.61     24000\n",
            "weighted avg       0.77      0.80      0.76     24000\n",
            "\n",
            "[[17964   771]\n",
            " [ 4067  1198]]\n",
            "Recall:95.88470776621297\n",
            "Precision:0.8153964867686442\n",
            "79.84166666666667\n",
            "88.1322670853162\n",
            "Sensitivity:0.8153964867686442\n",
            "Specificity:0.6084306754697816\n"
          ]
        }
      ]
    },
    {
      "cell_type": "markdown",
      "source": [
        "MLP Classifier Evaluation"
      ],
      "metadata": {
        "id": "DHqTLyrRV377"
      }
    },
    {
      "cell_type": "code",
      "source": [
        "#Classification report and Confusion Matrix\n",
        "print(classification_report(y_test,mlp_predictions))\n",
        "mlp_cm = confusion_matrix(y_test,mlp_predictions)\n",
        "print(mlp_cm)\n",
        "\n",
        "#Precision and Recall\n",
        "mlp_recall= recall_score(y_test, mlp_predictions, pos_label=0)*100\n",
        "print(f\"Recall:{mlp_recall}\")\n",
        "mlp_precision= precision_score(y_test, mlp_predictions, pos_label=0)\n",
        "print(f\"Precision:{mlp_precision}\")\n",
        "\n",
        "# Accuracy Score\n",
        "print(accuracy_score(y_test, mlp_predictions)*100)\n",
        "\n",
        "#F1 score\n",
        "print(f1_score(y_test, mlp_predictions, pos_label=0)*100)\n",
        "\n",
        "#Sensitivity and Specificity\n",
        "mlp_sensitivity = mlp_cm[0,0]/(mlp_cm[0,0]+mlp_cm[1,0])\n",
        "print(f\"Sensitivity:{mlp_sensitivity}\")\n",
        "\n",
        "mlp_specificity = mlp_cm[1,1]/(mlp_cm[1,1]+mlp_cm[0,1])\n",
        "print(f\"Specificity:{mlp_specificity}\")"
      ],
      "metadata": {
        "colab": {
          "base_uri": "https://localhost:8080/"
        },
        "id": "kvzXSOT9U0lJ",
        "outputId": "eea9fffe-4b6b-4268-986a-cf53003dba98"
      },
      "execution_count": 44,
      "outputs": [
        {
          "output_type": "stream",
          "name": "stdout",
          "text": [
            "              precision    recall  f1-score   support\n",
            "\n",
            "           0       0.84      0.91      0.88     18735\n",
            "           1       0.57      0.40      0.47      5265\n",
            "\n",
            "    accuracy                           0.80     24000\n",
            "   macro avg       0.71      0.66      0.67     24000\n",
            "weighted avg       0.78      0.80      0.79     24000\n",
            "\n",
            "[[17134  1601]\n",
            " [ 3157  2108]]\n",
            "Recall:91.45449693087804\n",
            "Precision:0.8444137795081563\n",
            "80.175\n",
            "87.80812791472353\n",
            "Sensitivity:0.8444137795081563\n",
            "Specificity:0.568347263413319\n"
          ]
        }
      ]
    },
    {
      "cell_type": "markdown",
      "source": [
        "### 7b. Cross Validation: Combined Evaluation"
      ],
      "metadata": {
        "id": "eI68A1Q2SziO"
      }
    },
    {
      "cell_type": "code",
      "source": [
        "print(cross_val_score(LogisticRegression(), X, y, cv=10)*100)\n",
        "print(cross_val_score(SVC(), X, y, cv=10)*100)\n",
        "print(cross_val_score(MLPClassifier(), X, y, cv=10)*100)\n",
        "print(cross_val_score(RandomForestClassifier(), X, y, cv=10)*100)\n",
        "print(cross_val_score(KNeighborsClassifier(), X, y, cv=10)*100)"
      ],
      "metadata": {
        "colab": {
          "base_uri": "https://localhost:8080/"
        },
        "id": "1ZetRrcLYV9C",
        "outputId": "1cae9d2c-a954-4a44-bd1f-5e12b788fec3"
      },
      "execution_count": 42,
      "outputs": [
        {
          "output_type": "stream",
          "name": "stdout",
          "text": [
            "[80.3        80.03333333 80.83333333 80.4        81.16666667 81.76666667\n",
            " 82.33333333 80.8        81.2        81.36666667]\n",
            "[80.76666667 80.73333333 81.56666667 80.9        81.7        82.6\n",
            " 83.7        82.9        82.43333333 82.2       ]\n"
          ]
        },
        {
          "output_type": "stream",
          "name": "stderr",
          "text": [
            "/usr/local/lib/python3.7/dist-packages/sklearn/neural_network/_multilayer_perceptron.py:696: ConvergenceWarning: Stochastic Optimizer: Maximum iterations (200) reached and the optimization hasn't converged yet.\n",
            "  ConvergenceWarning,\n",
            "/usr/local/lib/python3.7/dist-packages/sklearn/neural_network/_multilayer_perceptron.py:696: ConvergenceWarning: Stochastic Optimizer: Maximum iterations (200) reached and the optimization hasn't converged yet.\n",
            "  ConvergenceWarning,\n",
            "/usr/local/lib/python3.7/dist-packages/sklearn/neural_network/_multilayer_perceptron.py:696: ConvergenceWarning: Stochastic Optimizer: Maximum iterations (200) reached and the optimization hasn't converged yet.\n",
            "  ConvergenceWarning,\n",
            "/usr/local/lib/python3.7/dist-packages/sklearn/neural_network/_multilayer_perceptron.py:696: ConvergenceWarning: Stochastic Optimizer: Maximum iterations (200) reached and the optimization hasn't converged yet.\n",
            "  ConvergenceWarning,\n",
            "/usr/local/lib/python3.7/dist-packages/sklearn/neural_network/_multilayer_perceptron.py:696: ConvergenceWarning: Stochastic Optimizer: Maximum iterations (200) reached and the optimization hasn't converged yet.\n",
            "  ConvergenceWarning,\n",
            "/usr/local/lib/python3.7/dist-packages/sklearn/neural_network/_multilayer_perceptron.py:696: ConvergenceWarning: Stochastic Optimizer: Maximum iterations (200) reached and the optimization hasn't converged yet.\n",
            "  ConvergenceWarning,\n",
            "/usr/local/lib/python3.7/dist-packages/sklearn/neural_network/_multilayer_perceptron.py:696: ConvergenceWarning: Stochastic Optimizer: Maximum iterations (200) reached and the optimization hasn't converged yet.\n",
            "  ConvergenceWarning,\n",
            "/usr/local/lib/python3.7/dist-packages/sklearn/neural_network/_multilayer_perceptron.py:696: ConvergenceWarning: Stochastic Optimizer: Maximum iterations (200) reached and the optimization hasn't converged yet.\n",
            "  ConvergenceWarning,\n",
            "/usr/local/lib/python3.7/dist-packages/sklearn/neural_network/_multilayer_perceptron.py:696: ConvergenceWarning: Stochastic Optimizer: Maximum iterations (200) reached and the optimization hasn't converged yet.\n",
            "  ConvergenceWarning,\n",
            "/usr/local/lib/python3.7/dist-packages/sklearn/neural_network/_multilayer_perceptron.py:696: ConvergenceWarning: Stochastic Optimizer: Maximum iterations (200) reached and the optimization hasn't converged yet.\n",
            "  ConvergenceWarning,\n"
          ]
        },
        {
          "output_type": "stream",
          "name": "stdout",
          "text": [
            "[80.43333333 80.4        80.93333333 79.93333333 80.9        81.86666667\n",
            " 82.2        81.33333333 81.53333333 81.13333333]\n",
            "[80.7        80.63333333 80.9        80.2        81.86666667 82.4\n",
            " 83.13333333 83.1        82.66666667 82.        ]\n",
            "[77.8        79.7        78.4        78.33333333 79.93333333 79.13333333\n",
            " 80.66666667 79.7        80.06666667 80.23333333]\n"
          ]
        }
      ]
    },
    {
      "cell_type": "markdown",
      "source": [
        "### 7c. Hypertuning Parameters using GridSearch CV: Combined Evaluation"
      ],
      "metadata": {
        "id": "w9E8PeWobRbZ"
      }
    },
    {
      "cell_type": "code",
      "source": [
        "combi_model_params = {\n",
        "    'svm': {\n",
        "        'model': SVC(gamma='auto'),\n",
        "        'params' : {\n",
        "            'C': [5,7,10],\n",
        "            'kernel': ['rbf','sigmoid']\n",
        "        }  \n",
        "    },\n",
        "    'knn': {\n",
        "        'model': KNeighborsClassifier(),\n",
        "        'params' : {\n",
        "            'n_neighbors' : [3,5,7],\n",
        "            'metric' : ['euclidean', 'manhattan']\n",
        "        }\n",
        "    }\n",
        "}"
      ],
      "metadata": {
        "id": "BDdadJoO-kPg"
      },
      "execution_count": 43,
      "outputs": []
    },
    {
      "cell_type": "code",
      "source": [
        "final_scores = []\n",
        "\n",
        "for model_name, mp in combi_model_params.items():\n",
        "    final_clf =  GridSearchCV(mp['model'], mp['params'], cv=5, return_train_score=False)\n",
        "    final_clf.fit(X, y)\n",
        "    final_scores.append({\n",
        "        'model': model_name,\n",
        "        'best_score': final_clf.best_score_,\n",
        "        'best_params': final_clf.best_params_\n",
        "    })\n",
        "    \n",
        "mod_choice = pd.DataFrame(final_scores,columns=['model','best_score','best_params'])\n",
        "mod_choice"
      ],
      "metadata": {
        "colab": {
          "base_uri": "https://localhost:8080/",
          "height": 112
        },
        "id": "zIlvEgd0DTCS",
        "outputId": "037df882-6f13-4021-8ebd-2921b4cb08e8"
      },
      "execution_count": 64,
      "outputs": [
        {
          "output_type": "execute_result",
          "data": {
            "text/plain": [
              "  model  best_score                                best_params\n",
              "0   svm    0.818367                  {'C': 5, 'kernel': 'rbf'}\n",
              "1   knn    0.800467  {'metric': 'euclidean', 'n_neighbors': 7}"
            ],
            "text/html": [
              "\n",
              "  <div id=\"df-11ff96ca-0323-490f-a972-af28a18001c4\">\n",
              "    <div class=\"colab-df-container\">\n",
              "      <div>\n",
              "<style scoped>\n",
              "    .dataframe tbody tr th:only-of-type {\n",
              "        vertical-align: middle;\n",
              "    }\n",
              "\n",
              "    .dataframe tbody tr th {\n",
              "        vertical-align: top;\n",
              "    }\n",
              "\n",
              "    .dataframe thead th {\n",
              "        text-align: right;\n",
              "    }\n",
              "</style>\n",
              "<table border=\"1\" class=\"dataframe\">\n",
              "  <thead>\n",
              "    <tr style=\"text-align: right;\">\n",
              "      <th></th>\n",
              "      <th>model</th>\n",
              "      <th>best_score</th>\n",
              "      <th>best_params</th>\n",
              "    </tr>\n",
              "  </thead>\n",
              "  <tbody>\n",
              "    <tr>\n",
              "      <th>0</th>\n",
              "      <td>svm</td>\n",
              "      <td>0.818367</td>\n",
              "      <td>{'C': 5, 'kernel': 'rbf'}</td>\n",
              "    </tr>\n",
              "    <tr>\n",
              "      <th>1</th>\n",
              "      <td>knn</td>\n",
              "      <td>0.800467</td>\n",
              "      <td>{'metric': 'euclidean', 'n_neighbors': 7}</td>\n",
              "    </tr>\n",
              "  </tbody>\n",
              "</table>\n",
              "</div>\n",
              "      <button class=\"colab-df-convert\" onclick=\"convertToInteractive('df-11ff96ca-0323-490f-a972-af28a18001c4')\"\n",
              "              title=\"Convert this dataframe to an interactive table.\"\n",
              "              style=\"display:none;\">\n",
              "        \n",
              "  <svg xmlns=\"http://www.w3.org/2000/svg\" height=\"24px\"viewBox=\"0 0 24 24\"\n",
              "       width=\"24px\">\n",
              "    <path d=\"M0 0h24v24H0V0z\" fill=\"none\"/>\n",
              "    <path d=\"M18.56 5.44l.94 2.06.94-2.06 2.06-.94-2.06-.94-.94-2.06-.94 2.06-2.06.94zm-11 1L8.5 8.5l.94-2.06 2.06-.94-2.06-.94L8.5 2.5l-.94 2.06-2.06.94zm10 10l.94 2.06.94-2.06 2.06-.94-2.06-.94-.94-2.06-.94 2.06-2.06.94z\"/><path d=\"M17.41 7.96l-1.37-1.37c-.4-.4-.92-.59-1.43-.59-.52 0-1.04.2-1.43.59L10.3 9.45l-7.72 7.72c-.78.78-.78 2.05 0 2.83L4 21.41c.39.39.9.59 1.41.59.51 0 1.02-.2 1.41-.59l7.78-7.78 2.81-2.81c.8-.78.8-2.07 0-2.86zM5.41 20L4 18.59l7.72-7.72 1.47 1.35L5.41 20z\"/>\n",
              "  </svg>\n",
              "      </button>\n",
              "      \n",
              "  <style>\n",
              "    .colab-df-container {\n",
              "      display:flex;\n",
              "      flex-wrap:wrap;\n",
              "      gap: 12px;\n",
              "    }\n",
              "\n",
              "    .colab-df-convert {\n",
              "      background-color: #E8F0FE;\n",
              "      border: none;\n",
              "      border-radius: 50%;\n",
              "      cursor: pointer;\n",
              "      display: none;\n",
              "      fill: #1967D2;\n",
              "      height: 32px;\n",
              "      padding: 0 0 0 0;\n",
              "      width: 32px;\n",
              "    }\n",
              "\n",
              "    .colab-df-convert:hover {\n",
              "      background-color: #E2EBFA;\n",
              "      box-shadow: 0px 1px 2px rgba(60, 64, 67, 0.3), 0px 1px 3px 1px rgba(60, 64, 67, 0.15);\n",
              "      fill: #174EA6;\n",
              "    }\n",
              "\n",
              "    [theme=dark] .colab-df-convert {\n",
              "      background-color: #3B4455;\n",
              "      fill: #D2E3FC;\n",
              "    }\n",
              "\n",
              "    [theme=dark] .colab-df-convert:hover {\n",
              "      background-color: #434B5C;\n",
              "      box-shadow: 0px 1px 3px 1px rgba(0, 0, 0, 0.15);\n",
              "      filter: drop-shadow(0px 1px 2px rgba(0, 0, 0, 0.3));\n",
              "      fill: #FFFFFF;\n",
              "    }\n",
              "  </style>\n",
              "\n",
              "      <script>\n",
              "        const buttonEl =\n",
              "          document.querySelector('#df-11ff96ca-0323-490f-a972-af28a18001c4 button.colab-df-convert');\n",
              "        buttonEl.style.display =\n",
              "          google.colab.kernel.accessAllowed ? 'block' : 'none';\n",
              "\n",
              "        async function convertToInteractive(key) {\n",
              "          const element = document.querySelector('#df-11ff96ca-0323-490f-a972-af28a18001c4');\n",
              "          const dataTable =\n",
              "            await google.colab.kernel.invokeFunction('convertToInteractive',\n",
              "                                                     [key], {});\n",
              "          if (!dataTable) return;\n",
              "\n",
              "          const docLinkHtml = 'Like what you see? Visit the ' +\n",
              "            '<a target=\"_blank\" href=https://colab.research.google.com/notebooks/data_table.ipynb>data table notebook</a>'\n",
              "            + ' to learn more about interactive tables.';\n",
              "          element.innerHTML = '';\n",
              "          dataTable['output_type'] = 'display_data';\n",
              "          await google.colab.output.renderOutput(dataTable, element);\n",
              "          const docLink = document.createElement('div');\n",
              "          docLink.innerHTML = docLinkHtml;\n",
              "          element.appendChild(docLink);\n",
              "        }\n",
              "      </script>\n",
              "    </div>\n",
              "  </div>\n",
              "  "
            ]
          },
          "metadata": {},
          "execution_count": 64
        }
      ]
    },
    {
      "cell_type": "markdown",
      "source": [
        "### 7d. ROC and AUC: Combined Evaluation"
      ],
      "metadata": {
        "id": "K96IEIAJc_bD"
      }
    },
    {
      "cell_type": "code",
      "source": [
        "\n",
        "#SVM\n",
        "svm_roc = svm_model.decision_function(X_test)\n",
        "\n",
        "#KNN Classifier\n",
        "knn_roc = knnclassifier.predict_proba(X_test)\n",
        "\n",
        "#Logistic Regression\n",
        "log_roc = logmodel.decision_function(X_test)\n",
        "\n"
      ],
      "metadata": {
        "id": "3hjEmEDQdIu0"
      },
      "execution_count": 61,
      "outputs": []
    },
    {
      "cell_type": "code",
      "source": [
        "svm_roc_auc = roc_auc_score(y_test,svm_model.predict(X_test))\n",
        "knn_roc_auc = roc_auc_score(y_test,knnclassifier.predict(X_test))\n",
        "log_roc_auc = roc_auc_score(y_test, logmodel.predict(X_test))\n"
      ],
      "metadata": {
        "id": "XPomysExUnMZ"
      },
      "execution_count": 62,
      "outputs": []
    },
    {
      "cell_type": "code",
      "source": [
        "#plot ROC and compare AUC\n",
        "\n",
        "from sklearn.metrics import roc_curve, auc\n",
        "\n",
        "svm_fpr, svm_tpr, thresholds = roc_curve(y_test, svm_model.decision_function(X_test))\n",
        "\n",
        "\n",
        "knn_fpr, knn_tpr, thresholds = roc_curve(y_test, knnclassifier.predict_proba(X_test)[:,1])\n",
        "\n",
        "log_fpr, log_tpr, thresholds = roc_curve(y_test, logmodel.decision_function(X_test))\n",
        "\n",
        "plt.figure()\n",
        "plt.plot(svm_fpr, svm_tpr, label='SVM(area = %0.2f)' % svm_roc_auc)\n",
        "plt.plot(knn_fpr, knn_tpr, label='KNN(area = %0.2f)' % knn_roc_auc)\n",
        "plt.plot(log_fpr, log_tpr, label='Logistic Regression(area = %0.2f)' % log_roc_auc)\n",
        "\n",
        "plt.plot([0,1], [0,1], label='Base Rate' 'k--')\n",
        "\n",
        "plt.xlim([0.0, 1.0])\n",
        "plt.ylim([0.0, 1.05])\n",
        "plt.xlabel('False Positive Rate')\n",
        "plt.ylabel('True Positive Rate')\n",
        "plt.title('ROC Graph')\n",
        "plt.legend(loc=\"lower right\")\n",
        "plt.show()"
      ],
      "metadata": {
        "colab": {
          "base_uri": "https://localhost:8080/",
          "height": 295
        },
        "id": "xep2s3HVvPgY",
        "outputId": "70ac7048-cd43-49d3-9100-043aa89d11c1"
      },
      "execution_count": 63,
      "outputs": [
        {
          "output_type": "display_data",
          "data": {
            "text/plain": [
              "<Figure size 432x288 with 1 Axes>"
            ],
            "image/png": "[encoded data removed]"
          },
          "metadata": {
            "needs_background": "light"
          }
        }
      ]
    },
    {
      "cell_type": "code",
      "source": [
        ""
      ],
      "metadata": {
        "id": "iXunT0V_PsK_"
      },
      "execution_count": null,
      "outputs": []
    }
  ]
}